{
 "cells": [
  {
   "cell_type": "code",
   "execution_count": 1,
   "id": "9ea0408b",
   "metadata": {},
   "outputs": [],
   "source": [
    "import scipy.stats as sct\n",
    "import seaborn as sns\n",
    "import matplotlib.pyplot as plt\n",
    "%matplotlib inline\n",
    "from math import sqrt\n",
    "import pandas as pd\n",
    "import numpy as np\n",
    "import seaborn as sns\n",
    "from math import sqrt\n",
    "from sklearn.model_selection import train_test_split\n",
    "from sklearn.linear_model import LogisticRegression\n",
    "from sklearn.tree import DecisionTreeClassifier\n",
    "from sklearn.ensemble import RandomForestClassifier\n",
    "from sklearn.ensemble import GradientBoostingClassifier\n",
    "import lightgbm as lgbm\n",
    "from xgboost import XGBClassifier\n",
    "from sklearn.model_selection import cross_val_predict\n",
    "from sklearn.model_selection import cross_val_score\n",
    "from sklearn.linear_model import LogisticRegressionCV\n",
    "from sklearn.model_selection import StratifiedKFold\n",
    "from sklearn import metrics\n",
    "from sklearn.impute import SimpleImputer\n",
    "from sklearn.compose import ColumnTransformer\n",
    "from sklearn.pipeline import Pipeline\n",
    "from sklearn.metrics import classification_report\n",
    "from sklearn.metrics import classification_report,confusion_matrix"
   ]
  },
  {
   "cell_type": "markdown",
   "id": "5543b182",
   "metadata": {},
   "source": [
    "Nos dados \"train2.csv\" e \"test2.csv\", são dados que foram normalizados. Ou seja, foi feito o tratamento na disersão desses dados."
   ]
  },
  {
   "cell_type": "markdown",
   "id": "771ba096",
   "metadata": {},
   "source": [
    "## Arquivos foram utilizados o normalizador "
   ]
  },
  {
   "cell_type": "code",
   "execution_count": 3,
   "id": "fde8d066",
   "metadata": {},
   "outputs": [
    {
     "data": {
      "text/html": [
       "<div>\n",
       "<style scoped>\n",
       "    .dataframe tbody tr th:only-of-type {\n",
       "        vertical-align: middle;\n",
       "    }\n",
       "\n",
       "    .dataframe tbody tr th {\n",
       "        vertical-align: top;\n",
       "    }\n",
       "\n",
       "    .dataframe thead th {\n",
       "        text-align: right;\n",
       "    }\n",
       "</style>\n",
       "<table border=\"1\" class=\"dataframe\">\n",
       "  <thead>\n",
       "    <tr style=\"text-align: right;\">\n",
       "      <th></th>\n",
       "      <th>var1</th>\n",
       "      <th>var2</th>\n",
       "      <th>var3</th>\n",
       "      <th>var4</th>\n",
       "      <th>var5</th>\n",
       "      <th>var6</th>\n",
       "      <th>var7</th>\n",
       "      <th>var8</th>\n",
       "      <th>var9</th>\n",
       "      <th>var10</th>\n",
       "      <th>...</th>\n",
       "      <th>var60</th>\n",
       "      <th>var61</th>\n",
       "      <th>var62</th>\n",
       "      <th>var63</th>\n",
       "      <th>var64</th>\n",
       "      <th>var65</th>\n",
       "      <th>var66</th>\n",
       "      <th>var67</th>\n",
       "      <th>var68</th>\n",
       "      <th>y</th>\n",
       "    </tr>\n",
       "  </thead>\n",
       "  <tbody>\n",
       "    <tr>\n",
       "      <th>0</th>\n",
       "      <td>1.140045</td>\n",
       "      <td>0.006656</td>\n",
       "      <td>0.999441</td>\n",
       "      <td>1.435552</td>\n",
       "      <td>-1.248792</td>\n",
       "      <td>1.004412</td>\n",
       "      <td>0.012261</td>\n",
       "      <td>0.000000</td>\n",
       "      <td>0.001051</td>\n",
       "      <td>0.022070</td>\n",
       "      <td>...</td>\n",
       "      <td>0.921522</td>\n",
       "      <td>0.000050</td>\n",
       "      <td>0.000020</td>\n",
       "      <td>0.000222</td>\n",
       "      <td>0.000008</td>\n",
       "      <td>0.000089</td>\n",
       "      <td>0.000002</td>\n",
       "      <td>0.000046</td>\n",
       "      <td>0.139706</td>\n",
       "      <td>1</td>\n",
       "    </tr>\n",
       "    <tr>\n",
       "      <th>1</th>\n",
       "      <td>-0.785862</td>\n",
       "      <td>0.041707</td>\n",
       "      <td>0.753009</td>\n",
       "      <td>-0.157886</td>\n",
       "      <td>0.494177</td>\n",
       "      <td>-1.472693</td>\n",
       "      <td>0.000000</td>\n",
       "      <td>0.006446</td>\n",
       "      <td>0.001137</td>\n",
       "      <td>0.023887</td>\n",
       "      <td>...</td>\n",
       "      <td>-1.085417</td>\n",
       "      <td>-0.378779</td>\n",
       "      <td>0.000027</td>\n",
       "      <td>0.000293</td>\n",
       "      <td>0.000007</td>\n",
       "      <td>-0.378779</td>\n",
       "      <td>-0.378779</td>\n",
       "      <td>0.000056</td>\n",
       "      <td>0.106618</td>\n",
       "      <td>0</td>\n",
       "    </tr>\n",
       "    <tr>\n",
       "      <th>2</th>\n",
       "      <td>-1.336121</td>\n",
       "      <td>0.022356</td>\n",
       "      <td>0.584115</td>\n",
       "      <td>-0.506950</td>\n",
       "      <td>-1.461444</td>\n",
       "      <td>-0.668015</td>\n",
       "      <td>0.009172</td>\n",
       "      <td>0.000000</td>\n",
       "      <td>0.001720</td>\n",
       "      <td>0.036113</td>\n",
       "      <td>...</td>\n",
       "      <td>-1.085417</td>\n",
       "      <td>0.000115</td>\n",
       "      <td>0.000029</td>\n",
       "      <td>0.000562</td>\n",
       "      <td>0.000011</td>\n",
       "      <td>-0.572651</td>\n",
       "      <td>-0.572651</td>\n",
       "      <td>0.000219</td>\n",
       "      <td>0.242647</td>\n",
       "      <td>0</td>\n",
       "    </tr>\n",
       "    <tr>\n",
       "      <th>3</th>\n",
       "      <td>1.415175</td>\n",
       "      <td>0.022230</td>\n",
       "      <td>0.998066</td>\n",
       "      <td>-1.269693</td>\n",
       "      <td>0.808350</td>\n",
       "      <td>-0.412675</td>\n",
       "      <td>0.007410</td>\n",
       "      <td>0.005700</td>\n",
       "      <td>0.000570</td>\n",
       "      <td>0.007980</td>\n",
       "      <td>...</td>\n",
       "      <td>-1.085417</td>\n",
       "      <td>0.000201</td>\n",
       "      <td>0.000025</td>\n",
       "      <td>0.000542</td>\n",
       "      <td>0.000013</td>\n",
       "      <td>0.000207</td>\n",
       "      <td>0.000001</td>\n",
       "      <td>0.000084</td>\n",
       "      <td>0.132353</td>\n",
       "      <td>0</td>\n",
       "    </tr>\n",
       "    <tr>\n",
       "      <th>4</th>\n",
       "      <td>-0.373168</td>\n",
       "      <td>0.016482</td>\n",
       "      <td>0.847328</td>\n",
       "      <td>1.434137</td>\n",
       "      <td>0.146364</td>\n",
       "      <td>-1.163436</td>\n",
       "      <td>0.005993</td>\n",
       "      <td>0.000000</td>\n",
       "      <td>0.001124</td>\n",
       "      <td>0.023599</td>\n",
       "      <td>...</td>\n",
       "      <td>0.920939</td>\n",
       "      <td>0.000085</td>\n",
       "      <td>0.000022</td>\n",
       "      <td>0.000339</td>\n",
       "      <td>0.000008</td>\n",
       "      <td>-0.374218</td>\n",
       "      <td>-0.374218</td>\n",
       "      <td>0.000171</td>\n",
       "      <td>0.132353</td>\n",
       "      <td>1</td>\n",
       "    </tr>\n",
       "    <tr>\n",
       "      <th>...</th>\n",
       "      <td>...</td>\n",
       "      <td>...</td>\n",
       "      <td>...</td>\n",
       "      <td>...</td>\n",
       "      <td>...</td>\n",
       "      <td>...</td>\n",
       "      <td>...</td>\n",
       "      <td>...</td>\n",
       "      <td>...</td>\n",
       "      <td>...</td>\n",
       "      <td>...</td>\n",
       "      <td>...</td>\n",
       "      <td>...</td>\n",
       "      <td>...</td>\n",
       "      <td>...</td>\n",
       "      <td>...</td>\n",
       "      <td>...</td>\n",
       "      <td>...</td>\n",
       "      <td>...</td>\n",
       "      <td>...</td>\n",
       "      <td>...</td>\n",
       "    </tr>\n",
       "    <tr>\n",
       "      <th>14118</th>\n",
       "      <td>-0.785862</td>\n",
       "      <td>0.013527</td>\n",
       "      <td>0.870913</td>\n",
       "      <td>1.367196</td>\n",
       "      <td>-1.331991</td>\n",
       "      <td>0.657516</td>\n",
       "      <td>0.010752</td>\n",
       "      <td>0.008324</td>\n",
       "      <td>0.001041</td>\n",
       "      <td>0.000000</td>\n",
       "      <td>...</td>\n",
       "      <td>-1.085417</td>\n",
       "      <td>0.000024</td>\n",
       "      <td>0.000013</td>\n",
       "      <td>0.000302</td>\n",
       "      <td>0.000006</td>\n",
       "      <td>-0.346492</td>\n",
       "      <td>-0.346492</td>\n",
       "      <td>0.000158</td>\n",
       "      <td>0.147059</td>\n",
       "      <td>0</td>\n",
       "    </tr>\n",
       "    <tr>\n",
       "      <th>14119</th>\n",
       "      <td>1.277610</td>\n",
       "      <td>0.047917</td>\n",
       "      <td>0.413792</td>\n",
       "      <td>-1.541603</td>\n",
       "      <td>0.249987</td>\n",
       "      <td>-1.472693</td>\n",
       "      <td>0.000000</td>\n",
       "      <td>0.010029</td>\n",
       "      <td>0.000000</td>\n",
       "      <td>0.000000</td>\n",
       "      <td>...</td>\n",
       "      <td>-1.085417</td>\n",
       "      <td>0.000110</td>\n",
       "      <td>0.000021</td>\n",
       "      <td>0.000342</td>\n",
       "      <td>0.000007</td>\n",
       "      <td>-0.371075</td>\n",
       "      <td>-0.371075</td>\n",
       "      <td>0.000055</td>\n",
       "      <td>0.198529</td>\n",
       "      <td>0</td>\n",
       "    </tr>\n",
       "    <tr>\n",
       "      <th>14120</th>\n",
       "      <td>2.378129</td>\n",
       "      <td>0.019307</td>\n",
       "      <td>0.783674</td>\n",
       "      <td>0.861093</td>\n",
       "      <td>1.052540</td>\n",
       "      <td>-0.838920</td>\n",
       "      <td>0.015358</td>\n",
       "      <td>0.011847</td>\n",
       "      <td>0.001316</td>\n",
       "      <td>0.006143</td>\n",
       "      <td>...</td>\n",
       "      <td>-1.085417</td>\n",
       "      <td>0.000089</td>\n",
       "      <td>0.000018</td>\n",
       "      <td>0.000408</td>\n",
       "      <td>0.000004</td>\n",
       "      <td>-0.438348</td>\n",
       "      <td>-0.438348</td>\n",
       "      <td>0.000174</td>\n",
       "      <td>0.158088</td>\n",
       "      <td>0</td>\n",
       "    </tr>\n",
       "    <tr>\n",
       "      <th>14121</th>\n",
       "      <td>-0.785862</td>\n",
       "      <td>0.061965</td>\n",
       "      <td>0.146209</td>\n",
       "      <td>0.439628</td>\n",
       "      <td>-0.573590</td>\n",
       "      <td>1.022723</td>\n",
       "      <td>0.024368</td>\n",
       "      <td>0.018798</td>\n",
       "      <td>0.000696</td>\n",
       "      <td>0.043863</td>\n",
       "      <td>...</td>\n",
       "      <td>0.921039</td>\n",
       "      <td>0.000265</td>\n",
       "      <td>0.000070</td>\n",
       "      <td>0.000474</td>\n",
       "      <td>0.000029</td>\n",
       "      <td>-0.695539</td>\n",
       "      <td>-0.695539</td>\n",
       "      <td>0.000184</td>\n",
       "      <td>0.128676</td>\n",
       "      <td>0</td>\n",
       "    </tr>\n",
       "    <tr>\n",
       "      <th>14122</th>\n",
       "      <td>1.552740</td>\n",
       "      <td>0.034729</td>\n",
       "      <td>0.372191</td>\n",
       "      <td>-1.075241</td>\n",
       "      <td>-0.168710</td>\n",
       "      <td>-0.009828</td>\n",
       "      <td>0.021624</td>\n",
       "      <td>0.016382</td>\n",
       "      <td>0.001966</td>\n",
       "      <td>0.041282</td>\n",
       "      <td>...</td>\n",
       "      <td>-1.085417</td>\n",
       "      <td>0.000151</td>\n",
       "      <td>0.000082</td>\n",
       "      <td>0.000575</td>\n",
       "      <td>0.000030</td>\n",
       "      <td>-0.654611</td>\n",
       "      <td>-0.654611</td>\n",
       "      <td>0.000116</td>\n",
       "      <td>0.128676</td>\n",
       "      <td>0</td>\n",
       "    </tr>\n",
       "  </tbody>\n",
       "</table>\n",
       "<p>14123 rows × 69 columns</p>\n",
       "</div>"
      ],
      "text/plain": [
       "           var1      var2      var3      var4      var5      var6      var7  \\\n",
       "0      1.140045  0.006656  0.999441  1.435552 -1.248792  1.004412  0.012261   \n",
       "1     -0.785862  0.041707  0.753009 -0.157886  0.494177 -1.472693  0.000000   \n",
       "2     -1.336121  0.022356  0.584115 -0.506950 -1.461444 -0.668015  0.009172   \n",
       "3      1.415175  0.022230  0.998066 -1.269693  0.808350 -0.412675  0.007410   \n",
       "4     -0.373168  0.016482  0.847328  1.434137  0.146364 -1.163436  0.005993   \n",
       "...         ...       ...       ...       ...       ...       ...       ...   \n",
       "14118 -0.785862  0.013527  0.870913  1.367196 -1.331991  0.657516  0.010752   \n",
       "14119  1.277610  0.047917  0.413792 -1.541603  0.249987 -1.472693  0.000000   \n",
       "14120  2.378129  0.019307  0.783674  0.861093  1.052540 -0.838920  0.015358   \n",
       "14121 -0.785862  0.061965  0.146209  0.439628 -0.573590  1.022723  0.024368   \n",
       "14122  1.552740  0.034729  0.372191 -1.075241 -0.168710 -0.009828  0.021624   \n",
       "\n",
       "           var8      var9     var10  ...     var60     var61     var62  \\\n",
       "0      0.000000  0.001051  0.022070  ...  0.921522  0.000050  0.000020   \n",
       "1      0.006446  0.001137  0.023887  ... -1.085417 -0.378779  0.000027   \n",
       "2      0.000000  0.001720  0.036113  ... -1.085417  0.000115  0.000029   \n",
       "3      0.005700  0.000570  0.007980  ... -1.085417  0.000201  0.000025   \n",
       "4      0.000000  0.001124  0.023599  ...  0.920939  0.000085  0.000022   \n",
       "...         ...       ...       ...  ...       ...       ...       ...   \n",
       "14118  0.008324  0.001041  0.000000  ... -1.085417  0.000024  0.000013   \n",
       "14119  0.010029  0.000000  0.000000  ... -1.085417  0.000110  0.000021   \n",
       "14120  0.011847  0.001316  0.006143  ... -1.085417  0.000089  0.000018   \n",
       "14121  0.018798  0.000696  0.043863  ...  0.921039  0.000265  0.000070   \n",
       "14122  0.016382  0.001966  0.041282  ... -1.085417  0.000151  0.000082   \n",
       "\n",
       "          var63     var64     var65     var66     var67     var68  y  \n",
       "0      0.000222  0.000008  0.000089  0.000002  0.000046  0.139706  1  \n",
       "1      0.000293  0.000007 -0.378779 -0.378779  0.000056  0.106618  0  \n",
       "2      0.000562  0.000011 -0.572651 -0.572651  0.000219  0.242647  0  \n",
       "3      0.000542  0.000013  0.000207  0.000001  0.000084  0.132353  0  \n",
       "4      0.000339  0.000008 -0.374218 -0.374218  0.000171  0.132353  1  \n",
       "...         ...       ...       ...       ...       ...       ... ..  \n",
       "14118  0.000302  0.000006 -0.346492 -0.346492  0.000158  0.147059  0  \n",
       "14119  0.000342  0.000007 -0.371075 -0.371075  0.000055  0.198529  0  \n",
       "14120  0.000408  0.000004 -0.438348 -0.438348  0.000174  0.158088  0  \n",
       "14121  0.000474  0.000029 -0.695539 -0.695539  0.000184  0.128676  0  \n",
       "14122  0.000575  0.000030 -0.654611 -0.654611  0.000116  0.128676  0  \n",
       "\n",
       "[14123 rows x 69 columns]"
      ]
     },
     "execution_count": 3,
     "metadata": {},
     "output_type": "execute_result"
    }
   ],
   "source": [
    "train = pd.read_csv('train2.csv', sep=',')\n",
    "train"
   ]
  },
  {
   "cell_type": "code",
   "execution_count": 4,
   "id": "c951181d",
   "metadata": {},
   "outputs": [
    {
     "data": {
      "text/html": [
       "<div>\n",
       "<style scoped>\n",
       "    .dataframe tbody tr th:only-of-type {\n",
       "        vertical-align: middle;\n",
       "    }\n",
       "\n",
       "    .dataframe tbody tr th {\n",
       "        vertical-align: top;\n",
       "    }\n",
       "\n",
       "    .dataframe thead th {\n",
       "        text-align: right;\n",
       "    }\n",
       "</style>\n",
       "<table border=\"1\" class=\"dataframe\">\n",
       "  <thead>\n",
       "    <tr style=\"text-align: right;\">\n",
       "      <th></th>\n",
       "      <th>id</th>\n",
       "      <th>var1</th>\n",
       "      <th>var2</th>\n",
       "      <th>var3</th>\n",
       "      <th>var4</th>\n",
       "      <th>var5</th>\n",
       "      <th>var6</th>\n",
       "      <th>var7</th>\n",
       "      <th>var8</th>\n",
       "      <th>var9</th>\n",
       "      <th>...</th>\n",
       "      <th>var59</th>\n",
       "      <th>var60</th>\n",
       "      <th>var61</th>\n",
       "      <th>var62</th>\n",
       "      <th>var63</th>\n",
       "      <th>var64</th>\n",
       "      <th>var65</th>\n",
       "      <th>var66</th>\n",
       "      <th>var67</th>\n",
       "      <th>var68</th>\n",
       "    </tr>\n",
       "  </thead>\n",
       "  <tbody>\n",
       "    <tr>\n",
       "      <th>0</th>\n",
       "      <td>0</td>\n",
       "      <td>-0.647656</td>\n",
       "      <td>0.064236</td>\n",
       "      <td>0.689771</td>\n",
       "      <td>1.373140</td>\n",
       "      <td>-1.454428</td>\n",
       "      <td>-0.181271</td>\n",
       "      <td>0.013765</td>\n",
       "      <td>0.000000</td>\n",
       "      <td>0.000510</td>\n",
       "      <td>...</td>\n",
       "      <td>0.000103</td>\n",
       "      <td>0.925267</td>\n",
       "      <td>0.000085</td>\n",
       "      <td>0.000025</td>\n",
       "      <td>0.000503</td>\n",
       "      <td>0.000009</td>\n",
       "      <td>-0.509299</td>\n",
       "      <td>-0.509299</td>\n",
       "      <td>0.000090</td>\n",
       "      <td>0.253676</td>\n",
       "    </tr>\n",
       "    <tr>\n",
       "      <th>1</th>\n",
       "      <td>2</td>\n",
       "      <td>-0.509642</td>\n",
       "      <td>0.062096</td>\n",
       "      <td>0.712631</td>\n",
       "      <td>-0.744737</td>\n",
       "      <td>-0.130368</td>\n",
       "      <td>-0.542260</td>\n",
       "      <td>0.017249</td>\n",
       "      <td>0.000000</td>\n",
       "      <td>0.001478</td>\n",
       "      <td>...</td>\n",
       "      <td>0.000036</td>\n",
       "      <td>0.924706</td>\n",
       "      <td>0.000107</td>\n",
       "      <td>0.000071</td>\n",
       "      <td>0.000440</td>\n",
       "      <td>0.000019</td>\n",
       "      <td>-0.492336</td>\n",
       "      <td>-0.492336</td>\n",
       "      <td>0.000072</td>\n",
       "      <td>0.099265</td>\n",
       "    </tr>\n",
       "    <tr>\n",
       "      <th>2</th>\n",
       "      <td>4</td>\n",
       "      <td>-0.647656</td>\n",
       "      <td>0.030555</td>\n",
       "      <td>0.168745</td>\n",
       "      <td>-1.092961</td>\n",
       "      <td>-1.344491</td>\n",
       "      <td>0.444850</td>\n",
       "      <td>0.022916</td>\n",
       "      <td>0.016666</td>\n",
       "      <td>0.000694</td>\n",
       "      <td>...</td>\n",
       "      <td>0.000226</td>\n",
       "      <td>0.925329</td>\n",
       "      <td>0.000230</td>\n",
       "      <td>0.000051</td>\n",
       "      <td>0.000646</td>\n",
       "      <td>0.000015</td>\n",
       "      <td>-0.693731</td>\n",
       "      <td>-0.693731</td>\n",
       "      <td>0.000204</td>\n",
       "      <td>0.136029</td>\n",
       "    </tr>\n",
       "    <tr>\n",
       "      <th>3</th>\n",
       "      <td>7</td>\n",
       "      <td>-0.785670</td>\n",
       "      <td>0.035908</td>\n",
       "      <td>0.283879</td>\n",
       "      <td>-1.451597</td>\n",
       "      <td>0.650310</td>\n",
       "      <td>-1.309105</td>\n",
       "      <td>0.023713</td>\n",
       "      <td>0.000000</td>\n",
       "      <td>0.002033</td>\n",
       "      <td>...</td>\n",
       "      <td>0.000089</td>\n",
       "      <td>-1.081126</td>\n",
       "      <td>0.000166</td>\n",
       "      <td>0.000107</td>\n",
       "      <td>0.000669</td>\n",
       "      <td>0.000015</td>\n",
       "      <td>-0.676838</td>\n",
       "      <td>-0.676838</td>\n",
       "      <td>0.000199</td>\n",
       "      <td>0.220588</td>\n",
       "    </tr>\n",
       "    <tr>\n",
       "      <th>4</th>\n",
       "      <td>15</td>\n",
       "      <td>-0.785670</td>\n",
       "      <td>0.053717</td>\n",
       "      <td>0.794250</td>\n",
       "      <td>0.746077</td>\n",
       "      <td>0.012010</td>\n",
       "      <td>-0.511667</td>\n",
       "      <td>0.003837</td>\n",
       "      <td>0.000000</td>\n",
       "      <td>0.001279</td>\n",
       "      <td>...</td>\n",
       "      <td>0.000096</td>\n",
       "      <td>0.924676</td>\n",
       "      <td>0.000108</td>\n",
       "      <td>0.000034</td>\n",
       "      <td>0.000403</td>\n",
       "      <td>0.000009</td>\n",
       "      <td>-0.425902</td>\n",
       "      <td>-0.425902</td>\n",
       "      <td>0.000150</td>\n",
       "      <td>0.113971</td>\n",
       "    </tr>\n",
       "    <tr>\n",
       "      <th>...</th>\n",
       "      <td>...</td>\n",
       "      <td>...</td>\n",
       "      <td>...</td>\n",
       "      <td>...</td>\n",
       "      <td>...</td>\n",
       "      <td>...</td>\n",
       "      <td>...</td>\n",
       "      <td>...</td>\n",
       "      <td>...</td>\n",
       "      <td>...</td>\n",
       "      <td>...</td>\n",
       "      <td>...</td>\n",
       "      <td>...</td>\n",
       "      <td>...</td>\n",
       "      <td>...</td>\n",
       "      <td>...</td>\n",
       "      <td>...</td>\n",
       "      <td>...</td>\n",
       "      <td>...</td>\n",
       "      <td>...</td>\n",
       "      <td>...</td>\n",
       "    </tr>\n",
       "    <tr>\n",
       "      <th>21178</th>\n",
       "      <td>35297</td>\n",
       "      <td>-0.785670</td>\n",
       "      <td>0.061812</td>\n",
       "      <td>0.716239</td>\n",
       "      <td>-0.190863</td>\n",
       "      <td>1.040199</td>\n",
       "      <td>-0.863478</td>\n",
       "      <td>0.017170</td>\n",
       "      <td>0.013246</td>\n",
       "      <td>0.001472</td>\n",
       "      <td>...</td>\n",
       "      <td>0.000073</td>\n",
       "      <td>-1.081126</td>\n",
       "      <td>0.000160</td>\n",
       "      <td>0.000065</td>\n",
       "      <td>0.000475</td>\n",
       "      <td>0.000019</td>\n",
       "      <td>-0.490084</td>\n",
       "      <td>-0.490084</td>\n",
       "      <td>0.000159</td>\n",
       "      <td>0.253676</td>\n",
       "    </tr>\n",
       "    <tr>\n",
       "      <th>21179</th>\n",
       "      <td>35298</td>\n",
       "      <td>1.146528</td>\n",
       "      <td>0.010485</td>\n",
       "      <td>0.293570</td>\n",
       "      <td>-0.040480</td>\n",
       "      <td>-0.899633</td>\n",
       "      <td>-0.623839</td>\n",
       "      <td>0.014899</td>\n",
       "      <td>0.011036</td>\n",
       "      <td>0.001655</td>\n",
       "      <td>...</td>\n",
       "      <td>0.000099</td>\n",
       "      <td>0.924968</td>\n",
       "      <td>0.000127</td>\n",
       "      <td>0.000029</td>\n",
       "      <td>0.000519</td>\n",
       "      <td>0.000009</td>\n",
       "      <td>-0.551272</td>\n",
       "      <td>-0.551272</td>\n",
       "      <td>0.000049</td>\n",
       "      <td>0.209559</td>\n",
       "    </tr>\n",
       "    <tr>\n",
       "      <th>21180</th>\n",
       "      <td>35300</td>\n",
       "      <td>-0.785670</td>\n",
       "      <td>0.037056</td>\n",
       "      <td>0.859649</td>\n",
       "      <td>0.144545</td>\n",
       "      <td>-0.727818</td>\n",
       "      <td>0.139947</td>\n",
       "      <td>0.010293</td>\n",
       "      <td>0.000000</td>\n",
       "      <td>0.000882</td>\n",
       "      <td>...</td>\n",
       "      <td>0.000070</td>\n",
       "      <td>0.926183</td>\n",
       "      <td>0.000053</td>\n",
       "      <td>0.000009</td>\n",
       "      <td>0.000219</td>\n",
       "      <td>0.000006</td>\n",
       "      <td>-0.293804</td>\n",
       "      <td>-0.293804</td>\n",
       "      <td>0.000061</td>\n",
       "      <td>0.161765</td>\n",
       "    </tr>\n",
       "    <tr>\n",
       "      <th>21181</th>\n",
       "      <td>35302</td>\n",
       "      <td>-0.647656</td>\n",
       "      <td>0.000000</td>\n",
       "      <td>0.000000</td>\n",
       "      <td>-1.489243</td>\n",
       "      <td>0.616368</td>\n",
       "      <td>-0.079297</td>\n",
       "      <td>0.024718</td>\n",
       "      <td>0.000000</td>\n",
       "      <td>0.002119</td>\n",
       "      <td>...</td>\n",
       "      <td>0.000073</td>\n",
       "      <td>-1.081126</td>\n",
       "      <td>0.000106</td>\n",
       "      <td>0.000023</td>\n",
       "      <td>0.000629</td>\n",
       "      <td>0.000009</td>\n",
       "      <td>-0.705535</td>\n",
       "      <td>-0.705535</td>\n",
       "      <td>0.000000</td>\n",
       "      <td>0.246324</td>\n",
       "    </tr>\n",
       "    <tr>\n",
       "      <th>21182</th>\n",
       "      <td>35303</td>\n",
       "      <td>-0.509642</td>\n",
       "      <td>0.062127</td>\n",
       "      <td>0.712983</td>\n",
       "      <td>-0.922153</td>\n",
       "      <td>-1.421387</td>\n",
       "      <td>-0.650352</td>\n",
       "      <td>0.017258</td>\n",
       "      <td>0.013313</td>\n",
       "      <td>0.001479</td>\n",
       "      <td>...</td>\n",
       "      <td>0.000155</td>\n",
       "      <td>0.924742</td>\n",
       "      <td>0.000141</td>\n",
       "      <td>0.000039</td>\n",
       "      <td>0.000444</td>\n",
       "      <td>0.000013</td>\n",
       "      <td>-0.492579</td>\n",
       "      <td>-0.492579</td>\n",
       "      <td>0.000094</td>\n",
       "      <td>0.312500</td>\n",
       "    </tr>\n",
       "  </tbody>\n",
       "</table>\n",
       "<p>21183 rows × 69 columns</p>\n",
       "</div>"
      ],
      "text/plain": [
       "          id      var1      var2      var3      var4      var5      var6  \\\n",
       "0          0 -0.647656  0.064236  0.689771  1.373140 -1.454428 -0.181271   \n",
       "1          2 -0.509642  0.062096  0.712631 -0.744737 -0.130368 -0.542260   \n",
       "2          4 -0.647656  0.030555  0.168745 -1.092961 -1.344491  0.444850   \n",
       "3          7 -0.785670  0.035908  0.283879 -1.451597  0.650310 -1.309105   \n",
       "4         15 -0.785670  0.053717  0.794250  0.746077  0.012010 -0.511667   \n",
       "...      ...       ...       ...       ...       ...       ...       ...   \n",
       "21178  35297 -0.785670  0.061812  0.716239 -0.190863  1.040199 -0.863478   \n",
       "21179  35298  1.146528  0.010485  0.293570 -0.040480 -0.899633 -0.623839   \n",
       "21180  35300 -0.785670  0.037056  0.859649  0.144545 -0.727818  0.139947   \n",
       "21181  35302 -0.647656  0.000000  0.000000 -1.489243  0.616368 -0.079297   \n",
       "21182  35303 -0.509642  0.062127  0.712983 -0.922153 -1.421387 -0.650352   \n",
       "\n",
       "           var7      var8      var9  ...     var59     var60     var61  \\\n",
       "0      0.013765  0.000000  0.000510  ...  0.000103  0.925267  0.000085   \n",
       "1      0.017249  0.000000  0.001478  ...  0.000036  0.924706  0.000107   \n",
       "2      0.022916  0.016666  0.000694  ...  0.000226  0.925329  0.000230   \n",
       "3      0.023713  0.000000  0.002033  ...  0.000089 -1.081126  0.000166   \n",
       "4      0.003837  0.000000  0.001279  ...  0.000096  0.924676  0.000108   \n",
       "...         ...       ...       ...  ...       ...       ...       ...   \n",
       "21178  0.017170  0.013246  0.001472  ...  0.000073 -1.081126  0.000160   \n",
       "21179  0.014899  0.011036  0.001655  ...  0.000099  0.924968  0.000127   \n",
       "21180  0.010293  0.000000  0.000882  ...  0.000070  0.926183  0.000053   \n",
       "21181  0.024718  0.000000  0.002119  ...  0.000073 -1.081126  0.000106   \n",
       "21182  0.017258  0.013313  0.001479  ...  0.000155  0.924742  0.000141   \n",
       "\n",
       "          var62     var63     var64     var65     var66     var67     var68  \n",
       "0      0.000025  0.000503  0.000009 -0.509299 -0.509299  0.000090  0.253676  \n",
       "1      0.000071  0.000440  0.000019 -0.492336 -0.492336  0.000072  0.099265  \n",
       "2      0.000051  0.000646  0.000015 -0.693731 -0.693731  0.000204  0.136029  \n",
       "3      0.000107  0.000669  0.000015 -0.676838 -0.676838  0.000199  0.220588  \n",
       "4      0.000034  0.000403  0.000009 -0.425902 -0.425902  0.000150  0.113971  \n",
       "...         ...       ...       ...       ...       ...       ...       ...  \n",
       "21178  0.000065  0.000475  0.000019 -0.490084 -0.490084  0.000159  0.253676  \n",
       "21179  0.000029  0.000519  0.000009 -0.551272 -0.551272  0.000049  0.209559  \n",
       "21180  0.000009  0.000219  0.000006 -0.293804 -0.293804  0.000061  0.161765  \n",
       "21181  0.000023  0.000629  0.000009 -0.705535 -0.705535  0.000000  0.246324  \n",
       "21182  0.000039  0.000444  0.000013 -0.492579 -0.492579  0.000094  0.312500  \n",
       "\n",
       "[21183 rows x 69 columns]"
      ]
     },
     "execution_count": 4,
     "metadata": {},
     "output_type": "execute_result"
    }
   ],
   "source": [
    "test = pd.read_csv('test2.csv', sep=',')\n",
    "test"
   ]
  },
  {
   "cell_type": "code",
   "execution_count": 38,
   "id": "b8ef59e2",
   "metadata": {},
   "outputs": [],
   "source": [
    "pd.options.mode.chained_assignment = None\n",
    "# criando dataset auxiliar\n",
    "train_aux = train.tail(200)\n",
    "\n",
    "# eliminando valores de df_teste do dataset original\n",
    "train_model = train.drop(index = train_aux.index)\n",
    "\n",
    "# arrumando index de df_teste\n",
    "train_aux.reset_index(inplace = True)\n",
    "train_aux.drop('index', axis = 1, inplace = True)"
   ]
  },
  {
   "cell_type": "code",
   "execution_count": 40,
   "id": "9cebe3bc",
   "metadata": {},
   "outputs": [
    {
     "name": "stdout",
     "output_type": "stream",
     "text": [
      "DataFrame principal:\n",
      "\n",
      "Número de quantidade de dados:\t 13923\n",
      "Número de variáveis/atributos:\t 69\n",
      "\n",
      "DataFrame de teste:\n",
      "\n",
      "Número de quantidade de dados:\t 200\n",
      "Número de variáveis/atributos:\t 69\n"
     ]
    }
   ],
   "source": [
    "# obtendo o novo tamanho do dataframe\n",
    "print('DataFrame principal:\\n')\n",
    "print('Número de quantidade de dados:\\t {}'.format(train_model.shape[0]))\n",
    "print('Número de variáveis/atributos:\\t {}\\n'.format(train_model.shape[1]))\n",
    "\n",
    "# obtendo o tamanho do dataframe auxiliar\n",
    "print('DataFrame de teste:\\n')\n",
    "print('Número de quantidade de dados:\\t {}'.format(train_aux.shape[0]))\n",
    "print('Número de variáveis/atributos:\\t {}'.format(train_aux.shape[1]))"
   ]
  },
  {
   "cell_type": "code",
   "execution_count": 27,
   "id": "b02151f7",
   "metadata": {},
   "outputs": [],
   "source": [
    "from sklearn.model_selection import train_test_split\n",
    "from sklearn.metrics import accuracy_score"
   ]
  },
  {
   "cell_type": "code",
   "execution_count": 41,
   "id": "9ff39186",
   "metadata": {},
   "outputs": [
    {
     "name": "stdout",
     "output_type": "stream",
     "text": [
      "O dataset de treino possui 11298 registros e o de treino 2825 registros.\n"
     ]
    }
   ],
   "source": [
    "X = train.drop('y', axis=1)\n",
    "y = train['y']\n",
    "\n",
    "SEED = 42\n",
    "np.random.seed(SEED)\n",
    "\n",
    "X_train, X_test, y_train, y_test = train_test_split(X, y, test_size = 0.20)\n",
    "\n",
    "print('O dataset de treino possui {} registros e o de treino {} registros.'\n",
    "       .format(X_train.shape[0], X_test.shape[0]))"
   ]
  },
  {
   "cell_type": "code",
   "execution_count": 30,
   "id": "54eb4ad8",
   "metadata": {},
   "outputs": [
    {
     "name": "stdout",
     "output_type": "stream",
     "text": [
      "\n",
      "\n",
      "A acurácia foi de 84.57%.\n",
      "CPU times: user 199 ms, sys: 6.11 ms, total: 205 ms\n",
      "Wall time: 203 ms\n"
     ]
    }
   ],
   "source": [
    "%%time\n",
    "np.random.seed(SEED)\n",
    "dtree = DecisionTreeClassifier(max_depth=2)\n",
    "dtree.fit(X_train,y_train)\n",
    "predict = dtree.predict(X_test)\n",
    "accuracy = accuracy_score(y_test, predict) * 100\n",
    "print('\\n')\n",
    "print (\"A acurácia foi de {:.2f}%.\".format(accuracy))\n"
   ]
  },
  {
   "cell_type": "code",
   "execution_count": 31,
   "id": "5a316146",
   "metadata": {},
   "outputs": [
    {
     "name": "stdout",
     "output_type": "stream",
     "text": [
      "              precision    recall  f1-score   support\n",
      "\n",
      "           0       0.87      0.95      0.91      2228\n",
      "           1       0.71      0.45      0.55       597\n",
      "\n",
      "    accuracy                           0.85      2825\n",
      "   macro avg       0.79      0.70      0.73      2825\n",
      "weighted avg       0.83      0.85      0.83      2825\n",
      "\n",
      "\n",
      "\n",
      "[[2118  110]\n",
      " [ 326  271]]\n"
     ]
    }
   ],
   "source": [
    "print(classification_report(y_test,predict))\n",
    "print('\\n')\n",
    "print(confusion_matrix(y_test,predict))"
   ]
  },
  {
   "cell_type": "code",
   "execution_count": 34,
   "id": "aaf41718",
   "metadata": {},
   "outputs": [
    {
     "name": "stdout",
     "output_type": "stream",
     "text": [
      "A acurácia foi de 84.21%.\n",
      "\n",
      "\n",
      "              precision    recall  f1-score   support\n",
      "\n",
      "           0       0.90      0.90      0.90      2228\n",
      "           1       0.63      0.62      0.62       597\n",
      "\n",
      "    accuracy                           0.84      2825\n",
      "   macro avg       0.76      0.76      0.76      2825\n",
      "weighted avg       0.84      0.84      0.84      2825\n",
      "\n",
      "\n",
      "\n",
      "[[2010  218]\n",
      " [ 228  369]]\n"
     ]
    }
   ],
   "source": [
    "np.random.seed(SEED)\n",
    "dtree = DecisionTreeClassifier(max_depth=3)\n",
    "dtree.fit(X_train, y_train)\n",
    "predict = dtree.predict(X_test)\n",
    "accuracy = accuracy_score(y_test, predict) * 100\n",
    "print (\"A acurácia foi de {:.2f}%.\".format(accuracy))\n",
    "print('\\n')\n",
    "print(classification_report(y_test,predict))\n",
    "print('\\n')\n",
    "print(confusion_matrix(y_test,predict))"
   ]
  },
  {
   "cell_type": "markdown",
   "id": "1808ca7c",
   "metadata": {},
   "source": [
    "* ROdar os dados de validação"
   ]
  },
  {
   "cell_type": "code",
   "execution_count": 43,
   "id": "a90b357d",
   "metadata": {},
   "outputs": [
    {
     "name": "stdout",
     "output_type": "stream",
     "text": [
      "A acurácia foi de 90.00%.\n"
     ]
    }
   ],
   "source": [
    "X_news = train_aux.drop('y', axis = 1)\n",
    "y_news = train_aux['y']\n",
    "\n",
    "predict = dtree.predict(X_news)\n",
    "\n",
    "accuracy = accuracy_score(y_news, predict) * 100\n",
    "print (\"A acurácia foi de {:.2f}%.\".format(accuracy))"
   ]
  },
  {
   "cell_type": "markdown",
   "id": "8995ae8d",
   "metadata": {},
   "source": [
    "## TREINAR OS DADOS COM CROSS VALIDATION"
   ]
  },
  {
   "cell_type": "markdown",
   "id": "07137657",
   "metadata": {},
   "source": [
    "### Primeira Etapa"
   ]
  },
  {
   "cell_type": "code",
   "execution_count": 44,
   "id": "196ab7f5",
   "metadata": {},
   "outputs": [
    {
     "name": "stdout",
     "output_type": "stream",
     "text": [
      "O dataset de treino possui 11298 registros e o de treino 2825 registros.\n"
     ]
    }
   ],
   "source": [
    "# divisao entre treino e teste do dataframe original\n",
    "from sklearn.model_selection import train_test_split\n",
    "\n",
    "SEED = 23\n",
    "np.random.seed(SEED)\n",
    "\n",
    "X = train.drop('y', axis = 1)\n",
    "y = train['y']\n",
    "\n",
    "X_train, X_test, y_train, y_test = train_test_split(X, y, test_size = 0.20, stratify = y)\n",
    "\n",
    "print('O dataset de treino possui {} registros e o de treino {} registros.'.format(X_train.shape[0], X_test.shape[0]))"
   ]
  },
  {
   "cell_type": "markdown",
   "id": "6a18613c",
   "metadata": {},
   "source": [
    "### Segunda Etapa"
   ]
  },
  {
   "cell_type": "code",
   "execution_count": 45,
   "id": "b63af578",
   "metadata": {},
   "outputs": [
    {
     "name": "stdout",
     "output_type": "stream",
     "text": [
      "Acurácia média: 85.43%\n",
      "Intervalo de acurácia: [84.11% ~ 86.75%]\n",
      "CPU times: user 1.05 s, sys: 31.7 ms, total: 1.08 s\n",
      "Wall time: 1.08 s\n"
     ]
    }
   ],
   "source": [
    "%%time\n",
    "from sklearn.model_selection import cross_val_score\n",
    "\n",
    "SEED = 42\n",
    "np.random.seed(SEED)\n",
    "\n",
    "dtree = DecisionTreeClassifier(max_depth=3)\n",
    "results = cross_val_score(dtree, X_train, y_train, cv = 5, scoring = 'accuracy')\n",
    "\n",
    "\n",
    "def intervalo(results):\n",
    "  mean = results.mean()\n",
    "  dv = results.std()\n",
    "  print('Acurácia média: {:.2f}%'.format(mean*100))\n",
    "  print('Intervalo de acurácia: [{:.2f}% ~ {:.2f}%]'.format((mean - 2*dv)*100, (mean + 2*dv)*100))\n",
    "\n",
    "intervalo(results)"
   ]
  },
  {
   "cell_type": "code",
   "execution_count": 48,
   "id": "3e14fd95",
   "metadata": {},
   "outputs": [
    {
     "name": "stdout",
     "output_type": "stream",
     "text": [
      "Acurácia média: 85.42%\n",
      "Intervalo de acurácia: [84.21% ~ 86.64%]\n",
      "CPU times: user 1.05 s, sys: 28.3 ms, total: 1.08 s\n",
      "Wall time: 1.08 s\n"
     ]
    }
   ],
   "source": [
    "%%time\n",
    "from sklearn.model_selection import KFold\n",
    "\n",
    "np.random.seed(SEED)\n",
    "\n",
    "cv = KFold(n_splits = 5, shuffle = True)\n",
    "\n",
    "dtree = DecisionTreeClassifier(max_depth=3)\n",
    "results = cross_val_score(dtree, X_train, y_train, cv = cv)\n",
    "intervalo(results)"
   ]
  },
  {
   "cell_type": "code",
   "execution_count": 49,
   "id": "a254eea3",
   "metadata": {},
   "outputs": [
    {
     "name": "stdout",
     "output_type": "stream",
     "text": [
      "Acurácia média: 85.44%\n",
      "Intervalo de acurácia: [84.22% ~ 86.66%]\n"
     ]
    }
   ],
   "source": [
    "from sklearn.model_selection import StratifiedKFold\n",
    "\n",
    "np.random.seed(SEED)\n",
    "\n",
    "cv = StratifiedKFold(n_splits = 5, shuffle = True)\n",
    "\n",
    "dtree = DecisionTreeClassifier(max_depth=3)\n",
    "results = cross_val_score(dtree, X_train, y_train, cv = cv)\n",
    "intervalo(results)"
   ]
  },
  {
   "cell_type": "markdown",
   "id": "431522de",
   "metadata": {},
   "source": [
    "### TERCEIRO PASSO"
   ]
  },
  {
   "cell_type": "code",
   "execution_count": 50,
   "id": "7b7d54a1",
   "metadata": {},
   "outputs": [
    {
     "name": "stdout",
     "output_type": "stream",
     "text": [
      "Acurácia média - Max Depth 3: 85.44%\n",
      "Intervalo de acurácia - Max Depth 3: [84.22% ~ 86.66%]\n",
      "\n",
      "Acurácia média - Max Depth 2: 85.41%\n",
      "Intervalo de acurácia - Max Depth 2: [84.05% ~ 86.78%]\n",
      "\n",
      "Acurácia média - Max Depth 4: 85.60%\n",
      "Intervalo de acurácia - Max Depth 4: [84.79% ~ 86.41%]\n",
      "\n",
      "Acurácia média - Max Depth 5: 85.89%\n",
      "Intervalo de acurácia - Max Depth 5: [84.93% ~ 86.85%]\n",
      "\n",
      "Acurácia média - Max Depth 6: 85.48%\n",
      "Intervalo de acurácia - Max Depth 6: [83.84% ~ 87.13%]\n",
      "\n",
      "Acurácia média - Max Depth 7: 85.12%\n",
      "Intervalo de acurácia - Max Depth 7: [83.83% ~ 86.41%]\n",
      "\n",
      "CPU times: user 9.5 s, sys: 150 ms, total: 9.65 s\n",
      "Wall time: 9.66 s\n"
     ]
    }
   ],
   "source": [
    "%%time\n",
    "max_depth = [3, 2, 4, 5, 6, 7]\n",
    "\n",
    "for item in max_depth:\n",
    "  np.random.seed(SEED)\n",
    "  cv = StratifiedKFold(n_splits = 5, shuffle = True)\n",
    "  dtree = DecisionTreeClassifier(max_depth=item)\n",
    "  results = cross_val_score(dtree, X_train, y_train, cv = cv, scoring = 'accuracy')\n",
    "  mean = results.mean()\n",
    "  dv = results.std()\n",
    "  print('Acurácia média - Max Depth {}: {:.2f}%'.format(item, mean*100))\n",
    "  print('Intervalo de acurácia - Max Depth {}: [{:.2f}% ~ {:.2f}%]\\n'.format(item, (mean - 2*dv)*100, (mean + 2*dv)*100))"
   ]
  },
  {
   "cell_type": "markdown",
   "id": "2f1e35ad",
   "metadata": {},
   "source": [
    "## TESTAR NOVOS MODELOS"
   ]
  },
  {
   "cell_type": "code",
   "execution_count": 141,
   "id": "7b8bb4b3",
   "metadata": {},
   "outputs": [
    {
     "name": "stdout",
     "output_type": "stream",
     "text": [
      "Acurácia média - Modelo Árvore de Decisão: 85.89%\n",
      "Intervalo de acurácia - Modelo Árvore de Decisão: [84.93% ~ 86.85%]\n",
      "\n",
      "Acurácia média - Modelo SVC: 82.28%\n",
      "Intervalo de acurácia - Modelo SVC: [81.34% ~ 83.22%]\n",
      "\n",
      "Acurácia média - Modelo Regressão Logística: 82.08%\n",
      "Intervalo de acurácia - Modelo Regressão Logística: [81.21% ~ 82.94%]\n",
      "\n",
      "Acurácia média - Modelo Random Forest: 85.98%\n",
      "Intervalo de acurácia - Modelo Random Forest: [85.13% ~ 86.83%]\n",
      "\n",
      "Acurácia média - Modelo GradientBoosting: 86.89%\n",
      "Intervalo de acurácia - Modelo GradientBoosting: [85.83% ~ 87.95%]\n",
      "\n",
      "Acurácia média - Modelo Lightgbm: 86.71%\n",
      "Intervalo de acurácia - Modelo Lightgbm: [85.84% ~ 87.57%]\n",
      "\n",
      "CPU times: user 4min 57s, sys: 1.73 s, total: 4min 59s\n",
      "Wall time: 4min 43s\n"
     ]
    }
   ],
   "source": [
    "%%time\n",
    "from sklearn.svm import SVC\n",
    "from sklearn.linear_model import LogisticRegression\n",
    "from sklearn.ensemble import RandomForestClassifier\n",
    "\n",
    "np.random.seed(SEED)\n",
    "\n",
    "cv = StratifiedKFold(n_splits = 5, shuffle = True)\n",
    "\n",
    "model = DecisionTreeClassifier(max_depth=5)\n",
    "model_svc = SVC()\n",
    "model_log = LogisticRegression(solver='liblinear')\n",
    "model_rand = RandomForestClassifier(n_estimators=100)\n",
    "model_gbc = GradientBoostingClassifier(n_estimators=100, max_depth=5)\n",
    "model_light = lgbm.LGBMClassifier()\n",
    "\n",
    "\n",
    "models = [model, model_svc, model_log, model_rand, model_gbc, model_light]\n",
    "name = ['Árvore de Decisão', 'SVC', 'Regressão Logística', 'Random Forest', 'GradientBoosting', 'Lightgbm']\n",
    "\n",
    "count = 0\n",
    "for item in models:\n",
    "  np.random.seed(SEED)\n",
    "  results = cross_val_score(item, X_train, y_train, cv = cv, scoring = 'accuracy')\n",
    "  mean = results.mean()\n",
    "  dv = results.std()\n",
    "  print('Acurácia média - Modelo {}: {:.2f}%'.format(name[count], mean*100))\n",
    "  print('Intervalo de acurácia - Modelo {}: [{:.2f}% ~ {:.2f}%]\\n'.format(name[count], (mean - 2*dv)*100, (mean + 2*dv)*100))\n",
    "  count += 1"
   ]
  },
  {
   "cell_type": "markdown",
   "id": "a89e8ff3",
   "metadata": {},
   "source": [
    "### Quarta etapa: verificar a Precisão e o Recall do modelo"
   ]
  },
  {
   "cell_type": "markdown",
   "id": "94ce814c",
   "metadata": {},
   "source": [
    "#### PRECISÃO"
   ]
  },
  {
   "cell_type": "code",
   "execution_count": 142,
   "id": "c49c6e37",
   "metadata": {},
   "outputs": [
    {
     "name": "stdout",
     "output_type": "stream",
     "text": [
      "Precisão média: 73.67%\n",
      "Intervalo de Precisão: [69.78% ~ 77.56%]\n",
      "CPU times: user 3min 5s, sys: 196 ms, total: 3min 5s\n",
      "Wall time: 3min 6s\n"
     ]
    }
   ],
   "source": [
    "%%time\n",
    "def intervalo_prec(results):\n",
    "  mean = results.mean()\n",
    "  dv = results.std()\n",
    "  print('Precisão média: {:.2f}%'.format(mean*100))\n",
    "  print('Intervalo de Precisão: [{:.2f}% ~ {:.2f}%]'.format((mean - 2*dv)*100, (mean + 2*dv)*100))\n",
    "\n",
    "np.random.seed(SEED)\n",
    "\n",
    "cv = StratifiedKFold(n_splits = 5, shuffle = True)\n",
    "\n",
    "model_gbc\n",
    "results = cross_val_score(model_gbc, X_train, y_train, cv = cv, scoring = 'precision')\n",
    "intervalo_prec(results)"
   ]
  },
  {
   "cell_type": "markdown",
   "id": "8d0adac6",
   "metadata": {},
   "source": [
    "#### RECALL"
   ]
  },
  {
   "cell_type": "code",
   "execution_count": 143,
   "id": "beed740c",
   "metadata": {},
   "outputs": [
    {
     "name": "stdout",
     "output_type": "stream",
     "text": [
      "Recall médio: 54.56%\n",
      "Intervalo de Recall: [52.25% ~ 56.87%]\n",
      "CPU times: user 2min 59s, sys: 20.8 ms, total: 2min 59s\n",
      "Wall time: 2min 59s\n"
     ]
    }
   ],
   "source": [
    "%%time\n",
    "def intervalo_recall(results):\n",
    "  mean = results.mean()\n",
    "  dv = results.std()\n",
    "  print('Recall médio: {:.2f}%'.format(mean*100))\n",
    "  print('Intervalo de Recall: [{:.2f}% ~ {:.2f}%]'.format((mean - 2*dv)*100, (mean + 2*dv)*100))\n",
    "\n",
    "np.random.seed(SEED)\n",
    "\n",
    "cv = StratifiedKFold(n_splits = 5, shuffle = True)\n",
    "\n",
    "model_gbc\n",
    "results = cross_val_score(model_gbc, X_train, y_train, cv = cv, scoring = 'recall')\n",
    "intervalo_recall(results)"
   ]
  },
  {
   "cell_type": "markdown",
   "id": "6e660a9f",
   "metadata": {},
   "source": [
    "### Trade off: Precisão ou recall\n",
    "\n",
    "- OBS: Lembrando que na competição do Kaggle, os critérios de desempate são: F1-score e Recall. \n",
    "\n",
    "Com base nessa informação, o nosso trade off, sempre será visando aumentar o nosso recall. \n",
    "\n",
    "Porém o nosso F1 Score, é uma média harmônica entre precisão e recall. Ou seja, se eu aumentar muito o recall, a ponto de desbalancear muito as previsões, meu F1 Score irá cair muito. "
   ]
  },
  {
   "cell_type": "code",
   "execution_count": 144,
   "id": "3780bebf",
   "metadata": {},
   "outputs": [
    {
     "data": {
      "image/png": "[encoded data removed]",
      "text/plain": [
       "<Figure size 864x360 with 1 Axes>"
      ]
     },
     "metadata": {
      "needs_background": "light"
     },
     "output_type": "display_data"
    },
    {
     "name": "stdout",
     "output_type": "stream",
     "text": [
      "CPU times: user 2min 57s, sys: 194 ms, total: 2min 58s\n",
      "Wall time: 2min 58s\n"
     ]
    }
   ],
   "source": [
    "%%time\n",
    "from sklearn.model_selection import cross_val_predict\n",
    "from sklearn.metrics import precision_recall_curve\n",
    "\n",
    "np.random.seed(SEED)\n",
    "\n",
    "cv = StratifiedKFold(n_splits = 5, shuffle = True)\n",
    "\n",
    "model_gbc\n",
    "y_scores = cross_val_predict(model_gbc, X_train, y_train, cv = cv, method = 'decision_function')\n",
    "\n",
    "precisions, recalls, thresholds = precision_recall_curve(y_train, y_scores)\n",
    "\n",
    "fig, ax = plt.subplots(figsize = (12,5))\n",
    "\n",
    "plt.plot(thresholds, precisions[:-1], 'b--', label = 'Precisão')\n",
    "plt.plot(thresholds, recalls[:-1], 'g-', label = 'Recall')\n",
    "plt.xlabel('Threshold')\n",
    "plt.legend(loc = 'center right')\n",
    "plt.ylim([0,1])\n",
    "plt.title('Precisão x Recall', fontsize = 14)\n",
    "\n",
    "plt.show()\n"
   ]
  },
  {
   "cell_type": "code",
   "execution_count": 174,
   "id": "b14489ab",
   "metadata": {},
   "outputs": [
    {
     "name": "stdout",
     "output_type": "stream",
     "text": [
      "Nova precisão: 0.6420\n",
      "Novo recall: 0.6583\n",
      "Novo F1 Score: 0.6501\n"
     ]
    }
   ],
   "source": [
    "from sklearn.metrics import precision_score, recall_score\n",
    "\n",
    "y_train_pred_recall_90 = (y_scores > -0.81)\n",
    "\n",
    "print('Nova precisão: {:.4f}'.format(precision_score(y_train,y_train_pred_recall_90)))\n",
    "print('Novo recall: {:.4f}'.format(recall_score(y_train,y_train_pred_recall_90)))\n",
    "print('Novo F1 Score: {:.4f}'.format(f1_score(y_train,y_train_pred_recall_90)))"
   ]
  },
  {
   "cell_type": "code",
   "execution_count": 175,
   "id": "29dbc831",
   "metadata": {},
   "outputs": [
    {
     "name": "stdout",
     "output_type": "stream",
     "text": [
      "CPU times: user 2min 49s, sys: 469 ms, total: 2min 50s\n",
      "Wall time: 2min 50s\n"
     ]
    },
    {
     "data": {
      "image/png": "[encoded data removed]",
      "text/plain": [
       "<Figure size 432x288 with 2 Axes>"
      ]
     },
     "metadata": {
      "needs_background": "light"
     },
     "output_type": "display_data"
    }
   ],
   "source": [
    "%%time\n",
    "from sklearn.model_selection import cross_val_predict\n",
    "from sklearn.metrics import confusion_matrix\n",
    "\n",
    "np.random.seed(SEED)\n",
    "\n",
    "cv = StratifiedKFold(n_splits = 5, shuffle = True)\n",
    "\n",
    "model_gbc\n",
    "y_pred = cross_val_predict(model_gbc, X_train, y_train, cv = cv)\n",
    "\n",
    "fig, ax = plt.subplots()\n",
    "sns.heatmap(confusion_matrix(y_train, y_pred), annot=True, ax=ax, fmt='d', cmap='Reds')\n",
    "\n",
    "ax.set_title(\"Matriz de Confusão\", fontsize=18)\n",
    "ax.set_ylabel(\"True label\")\n",
    "ax.set_xlabel(\"Predicted Label\")\n",
    "\n",
    "plt.tight_layout()\n"
   ]
  },
  {
   "cell_type": "code",
   "execution_count": 177,
   "id": "be82be7c",
   "metadata": {},
   "outputs": [
    {
     "name": "stdout",
     "output_type": "stream",
     "text": [
      "Relatório de classificação:\n",
      "               precision    recall  f1-score   support\n",
      "\n",
      "           0     0.8922    0.9507    0.9205      9018\n",
      "           1     0.7365    0.5456    0.6269      2280\n",
      "\n",
      "    accuracy                         0.8689     11298\n",
      "   macro avg     0.8144    0.7481    0.7737     11298\n",
      "weighted avg     0.8608    0.8689    0.8612     11298\n",
      "\n"
     ]
    }
   ],
   "source": [
    "from sklearn.metrics import classification_report\n",
    "\n",
    "# relatório do modelo\n",
    "print('Relatório de classificação:\\n', classification_report(y_train, y_pred, digits=4))"
   ]
  },
  {
   "cell_type": "code",
   "execution_count": 178,
   "id": "b05e4130",
   "metadata": {},
   "outputs": [
    {
     "data": {
      "image/png": "[encoded data removed]",
      "text/plain": [
       "<Figure size 864x360 with 1 Axes>"
      ]
     },
     "metadata": {
      "needs_background": "light"
     },
     "output_type": "display_data"
    },
    {
     "name": "stdout",
     "output_type": "stream",
     "text": [
      "CPU times: user 252 ms, sys: 4 ms, total: 256 ms\n",
      "Wall time: 258 ms\n"
     ]
    }
   ],
   "source": [
    "%%time\n",
    "from sklearn.metrics import roc_curve\n",
    "\n",
    "fpr, tpr, thresholds = roc_curve(y_train, y_scores)\n",
    "\n",
    "fig, ax = plt.subplots(figsize = (12,5))\n",
    "\n",
    "plt.plot(fpr, tpr, linewidth=2, label = 'GradientBoosting')\n",
    "plt.plot([0,1], [0,1], 'k--')\n",
    "plt.axis([0, 1, 0, 1])\n",
    "plt.xlabel('Taxa de Falsos Positivos')\n",
    "plt.ylabel('Taxa de Verdadeiros Positivos')\n",
    "plt.legend(loc = 'lower right')\n",
    "plt.title('Curva ROC', fontsize = 14)\n",
    "\n",
    "plt.show()"
   ]
  },
  {
   "cell_type": "code",
   "execution_count": 179,
   "id": "2716ff58",
   "metadata": {},
   "outputs": [
    {
     "name": "stdout",
     "output_type": "stream",
     "text": [
      "Área sob a curva ROC: 0.8733\n"
     ]
    }
   ],
   "source": [
    "from sklearn.metrics import roc_auc_score\n",
    "print('Área sob a curva ROC: {:.4f}'.format(roc_auc_score(y_train, y_scores)))\n"
   ]
  },
  {
   "cell_type": "code",
   "execution_count": 181,
   "id": "dfc4f17e",
   "metadata": {},
   "outputs": [
    {
     "data": {
      "image/png": "[encoded data removed]",
      "text/plain": [
       "<Figure size 864x288 with 1 Axes>"
      ]
     },
     "metadata": {
      "needs_background": "light"
     },
     "output_type": "display_data"
    },
    {
     "name": "stdout",
     "output_type": "stream",
     "text": [
      "Área sob a curva ROC - Gradient Boosting: 0.8733\n",
      "Área sob a curva ROC - Random Forest: 0.8531\n"
     ]
    }
   ],
   "source": [
    "np.random.seed(SEED)\n",
    "\n",
    "cv = StratifiedKFold(n_splits = 5, shuffle = True)\n",
    "\n",
    "model_rf = RandomForestClassifier(n_estimators=100)\n",
    "y_prob_forest = cross_val_predict(model_rf, X_train, y_train, cv = cv, method = 'predict_proba')\n",
    "\n",
    "y_scores_forest = y_prob_forest[:,1]\n",
    "fpr_forest, tpr_forest, thresholds_forest = roc_curve(y_train, y_scores_forest)\n",
    "\n",
    "fig, ax = plt.subplots(figsize = (12,4))\n",
    "\n",
    "plt.plot(fpr, tpr, linewidth=2, label = 'Gradient Bossting')\n",
    "plt.plot(fpr_forest, tpr_forest, linewidth=2, label = 'Random Forest')\n",
    "plt.plot([0,1], [0,1], 'k--')\n",
    "plt.axis([0, 1, 0, 1])\n",
    "plt.xlabel('Taxa de Falsos Positivos')\n",
    "plt.ylabel('Taxa de Verdadeiros Positivos')\n",
    "plt.legend(loc = 'lower right')\n",
    "plt.title('Curva ROC', fontsize = 14)\n",
    "\n",
    "plt.show()\n",
    "\n",
    "print('Área sob a curva ROC - Gradient Boosting: {:.4f}'.format(roc_auc_score(y_train, y_scores)))\n",
    "print('Área sob a curva ROC - Random Forest: {:.4f}'.format(roc_auc_score(y_train, y_scores_forest)))"
   ]
  },
  {
   "cell_type": "markdown",
   "id": "0805eff1",
   "metadata": {},
   "source": [
    "## SUBMISSÃO ARQUIVO"
   ]
  },
  {
   "cell_type": "code",
   "execution_count": 182,
   "id": "251f9a0e",
   "metadata": {},
   "outputs": [],
   "source": [
    "#importando novamente o arquivo test\n",
    "df8 = pd.read_csv('test2.csv', sep=',')"
   ]
  },
  {
   "cell_type": "code",
   "execution_count": 184,
   "id": "6cb309de",
   "metadata": {},
   "outputs": [
    {
     "name": "stdout",
     "output_type": "stream",
     "text": [
      "Relatório de Classificação:\n",
      "               precision    recall  f1-score   support\n",
      "\n",
      "           0     0.9002    0.9521    0.9254      2255\n",
      "           1     0.7545    0.5825    0.6574       570\n",
      "\n",
      "    accuracy                         0.8775      2825\n",
      "   macro avg     0.8274    0.7673    0.7914      2825\n",
      "weighted avg     0.8708    0.8775    0.8714      2825\n",
      "\n",
      "AUC: 0.8889\n",
      "\n"
     ]
    }
   ],
   "source": [
    "final_model = GradientBoostingClassifier(n_estimators=100, max_depth=5)\n",
    "final_model.fit(X_train, y_train)\n",
    "\n",
    "y_pred = final_model.predict(X_test)\n",
    "y_prob = final_model.predict_proba(X_test)\n",
    "\n",
    "# imprimir relatório de classificação\n",
    "print(\"Relatório de Classificação:\\n\", classification_report(y_test, y_pred, digits=4))\n",
    " \n",
    "# imprimir a área sob a curva\n",
    "print(\"AUC: {:.4f}\\n\".format(roc_auc_score(y_test,y_prob[:,1])))\n"
   ]
  },
  {
   "cell_type": "code",
   "execution_count": 186,
   "id": "65409a9b",
   "metadata": {},
   "outputs": [],
   "source": [
    "sub = final_model.predict(test)\n",
    "submission = pd.DataFrame()\n",
    "submission['id'] = df8['id']\n",
    "submission['predicted'] = sub\n",
    "\n",
    "submission.to_csv('submission_gbc.csv', index=False)"
   ]
  },
  {
   "cell_type": "code",
   "execution_count": 187,
   "id": "8bf91fe2",
   "metadata": {},
   "outputs": [
    {
     "name": "stdout",
     "output_type": "stream",
     "text": [
      "mkdir: não foi possível criar o diretório “/home/felipe/.kaggle”: Arquivo existe\n",
      "kaggle.json\n",
      "Warning: Your Kaggle API key is readable by other users on this system! To fix this, you can run 'chmod 600 /home/felipe/.kaggle/kaggle.json'\n",
      "ref                                                      title                                              size  lastUpdated          downloadCount  voteCount  usabilityRating  \n",
      "-------------------------------------------------------  ------------------------------------------------  -----  -------------------  -------------  ---------  ---------------  \n",
      "aharless/porto-seguro-public-kernel-results              Porto Seguro public kernel results                  3KB  2017-12-01 22:06:38             42         10  0.7647059        \n",
      "vpaslay/kaggleportosegurosubmissions                     kaggle-porto-seguro-submissions                    34MB  2017-11-12 13:49:51           2059          1  0.4117647        \n",
      "pushero/porto-seguros-safe-driver-prediction-test-data   Porto Seguro’s Safe Driver Prediction test data    44MB  2017-10-03 09:54:36            154          3  0.47058824       \n",
      "ogrellier/porto-seguros-safe-driver-noisy-features       porto seguro's safe driver noisy features           2KB  2017-10-20 12:05:41             77          3  0.4117647        \n",
      "pipergragg/porto-seguros-safe-driver-prediction-dataset  Porto Seguro's Safe Driver Prediction Dataset      77MB  2017-11-12 01:43:42            386          4  0.1764706        \n",
      "aharless/kaggleportosegurocnoof                          kaggle-porto-seguro-cnoof                          33MB  2017-11-16 03:52:51            106          0  0.7647059        \n",
      "areeves87/kernel-census                                  Output for 20 kernels porto seguro                142MB  2017-11-07 06:49:23            812          2  0.29411766       \n",
      "s1mulation0ne/porto-seguro-ml                            Porto Seguro ML                                    77MB  2019-02-22 12:50:23             16          0  0.29411766       \n",
      "alishankaisani/porto-seguro                              Porto Seguro                                       30MB  2017-10-29 05:30:53             26          0  0.23529412       \n",
      "msahamed/porto-seguros-safe-driver-prediction-data       Porto Seguro’s Safe Driver Prediction data         74MB  2017-11-25 05:25:48             97          1  0.29411766       \n",
      "rohithpai/porto-seguros-safe-driver-prediction           Porto Seguro’s Safe Driver Prediction              30MB  2017-10-15 01:00:44            109          1  0.23529412       \n",
      "pushero/porto-seguros-safe-driver-prediction-train-data  Porto Seguro’s Safe Driver Prediction train data   30MB  2017-10-03 09:00:28            164          0  0.4117647        \n",
      "nitinakaggle/porto-seguros-safe-driver-prediction        Porto Seguro’s Safe Driver Prediction              84MB  2018-09-13 09:54:43             65          0  0.1764706        \n",
      "satadru5/porto-seguros-safe-driver-prediction-026        Porto Seguro’s Safe Driver Prediction_0.26         10MB  2017-11-13 07:24:22             22          0  0.3529412        \n",
      "kjeanclaude/porto-seguros-safe-driver-prediction-files   Porto Seguro’s Safe Driver Prediction files        74MB  2017-11-09 07:21:09             25          0  0.23529412       \n",
      "alinecristini/atividade2portoseguro                      Atividade2-PortoSeguro                             74MB  2019-02-18 16:34:27             28          0  0.1764706        \n",
      "fabioluciani/kaggleportosegurosubmissions                kaggleportosegurosubmissions                       34MB  2017-11-16 11:15:23             26          0  0.23529412       \n",
      "inphime/porto-seguro                                     porto_seguro                                       164B  2017-11-25 00:16:47             35          0  0.125            \n"
     ]
    }
   ],
   "source": [
    "!mkdir ~/.kaggle\n",
    "\n",
    "!cp /home/felipe/Downloads/kaggle.json /home/felipe/.kaggle/kaggle.json\n",
    "\n",
    "!cd /home/felipe/.kaggle/ && ls\n",
    "\n",
    "!kaggle datasets list -s 'Porto Seguro'"
   ]
  },
  {
   "cell_type": "code",
   "execution_count": 189,
   "id": "fa1a75ea",
   "metadata": {},
   "outputs": [
    {
     "name": "stdout",
     "output_type": "stream",
     "text": [
      "Warning: Your Kaggle API key is readable by other users on this system! To fix this, you can run 'chmod 600 /home/felipe/.kaggle/kaggle.json'\n",
      "100%|████████████████████████████████████████| 159k/159k [00:02<00:00, 81.1kB/s]\n",
      "Successfully submitted to Porto Seguro Data Challenge"
     ]
    }
   ],
   "source": [
    "!kaggle competitions submit -c porto-seguro-data-challenge -f submission_gbc.csv -m \"SUBMISSÃO 5\""
   ]
  },
  {
   "cell_type": "markdown",
   "id": "8de40c38",
   "metadata": {},
   "source": [
    "## RESULTADOS:\n",
    "\n",
    "Sem a utilização do Pycaret, conseguimos melhorar o nosso modelo final. Saimos de 0.38943 para 0.60690, o que nos colocaria entre os 138° na competição. \n",
    "\n",
    "No link abaixo, minha submissão feita diretamente no site no Kaggle, aonde minha pontução com **Private Score** foi de **0.63696** e o **Public Score** de **0.64212**. \n",
    "\n",
    "https://www.kaggle.com/felipesembay/modelo-gradientboosting"
   ]
  },
  {
   "cell_type": "code",
   "execution_count": null,
   "id": "54cb735f",
   "metadata": {},
   "outputs": [],
   "source": []
  },
  {
   "cell_type": "code",
   "execution_count": null,
   "id": "ba20be60",
   "metadata": {},
   "outputs": [],
   "source": []
  }
 ],
 "metadata": {
  "kernelspec": {
   "display_name": "Python 3",
   "language": "python",
   "name": "python3"
  },
  "language_info": {
   "codemirror_mode": {
    "name": "ipython",
    "version": 3
   },
   "file_extension": ".py",
   "mimetype": "text/x-python",
   "name": "python",
   "nbconvert_exporter": "python",
   "pygments_lexer": "ipython3",
   "version": "3.8.8"
  }
 },
 "nbformat": 4,
 "nbformat_minor": 5
}
