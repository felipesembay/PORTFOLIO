{
 "cells": [
  {
   "cell_type": "code",
   "execution_count": null,
   "metadata": {
    "colab": {
     "base_uri": "https://localhost:8080/",
     "height": 90,
     "resources": {
      "http://localhost:8080/nbextensions/google.colab/files.js": {
       "data": "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",
       "headers": [
        [
         "content-type",
         "application/javascript"
        ]
       ],
       "ok": true,
       "status": 200,
       "status_text": ""
      }
     }
    },
    "id": "uxC5ZcTFIwI5",
    "outputId": "9d403472-33be-49f9-8a32-04d3f5acef2b"
   },
   "outputs": [
    {
     "data": {
      "text/html": [
       "\n",
       "     <input type=\"file\" id=\"files-96df611b-6ce6-436a-84c2-2f8640791654\" name=\"files[]\" multiple disabled\n",
       "        style=\"border:none\" />\n",
       "     <output id=\"result-96df611b-6ce6-436a-84c2-2f8640791654\">\n",
       "      Upload widget is only available when the cell has been executed in the\n",
       "      current browser session. Please rerun this cell to enable.\n",
       "      </output>\n",
       "      <script src=\"/nbextensions/google.colab/files.js\"></script> "
      ],
      "text/plain": [
       "<IPython.core.display.HTML object>"
      ]
     },
     "metadata": {},
     "output_type": "display_data"
    },
    {
     "name": "stdout",
     "output_type": "stream",
     "text": [
      "Saving arquivo_treino.csv to arquivo_treino.csv\n",
      "User uploaded file \"arquivo_treino.csv\" with length 5006082 bytes\n"
     ]
    }
   ],
   "source": [
    "from google.colab import files\n",
    "\n",
    "uploaded = files.upload()\n",
    "\n",
    "for fn in uploaded.keys():\n",
    "  print('User uploaded file \"{name}\" with length {length} bytes'.format(\n",
    "      name=fn, length=len(uploaded[fn])))"
   ]
  },
  {
   "cell_type": "code",
   "execution_count": null,
   "metadata": {
    "colab": {
     "base_uri": "https://localhost:8080/",
     "height": 90,
     "resources": {
      "http://localhost:8080/nbextensions/google.colab/files.js": {
       "data": "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",
       "headers": [
        [
         "content-type",
         "application/javascript"
        ]
       ],
       "ok": true,
       "status": 200,
       "status_text": ""
      }
     }
    },
    "id": "T9G6hmDnI9B9",
    "outputId": "9f25d703-6331-43ea-99ac-ca8ff60b3e4d"
   },
   "outputs": [
    {
     "data": {
      "text/html": [
       "\n",
       "     <input type=\"file\" id=\"files-98e90b78-ffb4-4d9f-a051-ddc9d9c0651c\" name=\"files[]\" multiple disabled\n",
       "        style=\"border:none\" />\n",
       "     <output id=\"result-98e90b78-ffb4-4d9f-a051-ddc9d9c0651c\">\n",
       "      Upload widget is only available when the cell has been executed in the\n",
       "      current browser session. Please rerun this cell to enable.\n",
       "      </output>\n",
       "      <script src=\"/nbextensions/google.colab/files.js\"></script> "
      ],
      "text/plain": [
       "<IPython.core.display.HTML object>"
      ]
     },
     "metadata": {},
     "output_type": "display_data"
    },
    {
     "name": "stdout",
     "output_type": "stream",
     "text": [
      "Saving arquivo_teste.csv to arquivo_teste.csv\n",
      "User uploaded file \"arquivo_teste.csv\" with length 5394752 bytes\n"
     ]
    }
   ],
   "source": [
    "from google.colab import files\n",
    "\n",
    "uploaded = files.upload()\n",
    "\n",
    "for fn in uploaded.keys():\n",
    "  print('User uploaded file \"{name}\" with length {length} bytes'.format(\n",
    "      name=fn, length=len(uploaded[fn])))"
   ]
  },
  {
   "cell_type": "code",
   "execution_count": null,
   "metadata": {
    "id": "F6sLtLM7I4Dk"
   },
   "outputs": [],
   "source": [
    "import pandas as pd\n",
    "import numpy as np\n",
    "import seaborn as sns\n",
    "import matplotlib.pyplot as plt\n",
    "plt.style.use('ggplot')"
   ]
  },
  {
   "cell_type": "code",
   "execution_count": null,
   "metadata": {
    "colab": {
     "base_uri": "https://localhost:8080/",
     "height": 163
    },
    "id": "Ray-hH1hJjz0",
    "outputId": "356db296-7b07-4b5c-ad88-ad98c9525680"
   },
   "outputs": [
    {
     "data": {
      "text/html": [
       "<div>\n",
       "<style scoped>\n",
       "    .dataframe tbody tr th:only-of-type {\n",
       "        vertical-align: middle;\n",
       "    }\n",
       "\n",
       "    .dataframe tbody tr th {\n",
       "        vertical-align: top;\n",
       "    }\n",
       "\n",
       "    .dataframe thead th {\n",
       "        text-align: right;\n",
       "    }\n",
       "</style>\n",
       "<table border=\"1\" class=\"dataframe\">\n",
       "  <thead>\n",
       "    <tr style=\"text-align: right;\">\n",
       "      <th></th>\n",
       "      <th>ultimo_salario_candidato</th>\n",
       "      <th>nivel_candidato</th>\n",
       "      <th>formacao_candidato</th>\n",
       "      <th>nivel_ingles_candidato</th>\n",
       "      <th>nivel_espanhol_candidato</th>\n",
       "      <th>mediana_teste_ingles_candidato</th>\n",
       "      <th>mediana_teste_espanhol_candidato</th>\n",
       "      <th>mediana_teste_logica_candidato</th>\n",
       "      <th>mediana_teste_outros_candidato</th>\n",
       "      <th>cargo_vaga</th>\n",
       "      <th>aprovado_vaga</th>\n",
       "    </tr>\n",
       "  </thead>\n",
       "  <tbody>\n",
       "    <tr>\n",
       "      <th>0</th>\n",
       "      <td>0.706283</td>\n",
       "      <td>-0.613524</td>\n",
       "      <td>-0.675902</td>\n",
       "      <td>-0.714495</td>\n",
       "      <td>-0.669559</td>\n",
       "      <td>-0.679300</td>\n",
       "      <td>-0.569908</td>\n",
       "      <td>-0.655806</td>\n",
       "      <td>-0.674119</td>\n",
       "      <td>-0.571804</td>\n",
       "      <td>0.0</td>\n",
       "    </tr>\n",
       "    <tr>\n",
       "      <th>1</th>\n",
       "      <td>0.707600</td>\n",
       "      <td>-0.633856</td>\n",
       "      <td>-0.685975</td>\n",
       "      <td>-0.682542</td>\n",
       "      <td>-0.639393</td>\n",
       "      <td>-0.665927</td>\n",
       "      <td>-0.570999</td>\n",
       "      <td>-0.686879</td>\n",
       "      <td>-0.679105</td>\n",
       "      <td>-0.572923</td>\n",
       "      <td>0.0</td>\n",
       "    </tr>\n",
       "    <tr>\n",
       "      <th>2</th>\n",
       "      <td>0.710179</td>\n",
       "      <td>-0.620538</td>\n",
       "      <td>-0.684306</td>\n",
       "      <td>-0.679271</td>\n",
       "      <td>-0.645696</td>\n",
       "      <td>-0.659470</td>\n",
       "      <td>-0.573473</td>\n",
       "      <td>-0.674894</td>\n",
       "      <td>-0.701256</td>\n",
       "      <td>-0.575809</td>\n",
       "      <td>0.0</td>\n",
       "    </tr>\n",
       "  </tbody>\n",
       "</table>\n",
       "</div>"
      ],
      "text/plain": [
       "   ultimo_salario_candidato  nivel_candidato  ...  cargo_vaga  aprovado_vaga\n",
       "0                  0.706283        -0.613524  ...   -0.571804            0.0\n",
       "1                  0.707600        -0.633856  ...   -0.572923            0.0\n",
       "2                  0.710179        -0.620538  ...   -0.575809            0.0\n",
       "\n",
       "[3 rows x 11 columns]"
      ]
     },
     "execution_count": 7,
     "metadata": {},
     "output_type": "execute_result"
    }
   ],
   "source": [
    "df1 = pd.read_csv('arquivo_treino.csv', sep=',')\n",
    "del df1['Unnamed: 0']\n",
    "df1.head(3)"
   ]
  },
  {
   "cell_type": "code",
   "execution_count": null,
   "metadata": {
    "colab": {
     "base_uri": "https://localhost:8080/",
     "height": 163
    },
    "id": "N3vEsViIJydB",
    "outputId": "a7c9f299-7f21-4134-9efa-d2244fbff3b7"
   },
   "outputs": [
    {
     "data": {
      "text/html": [
       "<div>\n",
       "<style scoped>\n",
       "    .dataframe tbody tr th:only-of-type {\n",
       "        vertical-align: middle;\n",
       "    }\n",
       "\n",
       "    .dataframe tbody tr th {\n",
       "        vertical-align: top;\n",
       "    }\n",
       "\n",
       "    .dataframe thead th {\n",
       "        text-align: right;\n",
       "    }\n",
       "</style>\n",
       "<table border=\"1\" class=\"dataframe\">\n",
       "  <thead>\n",
       "    <tr style=\"text-align: right;\">\n",
       "      <th></th>\n",
       "      <th>ultimo_salario_candidato</th>\n",
       "      <th>nivel_candidato</th>\n",
       "      <th>formacao_candidato</th>\n",
       "      <th>nivel_ingles_candidato</th>\n",
       "      <th>nivel_espanhol_candidato</th>\n",
       "      <th>mediana_teste_ingles_candidato</th>\n",
       "      <th>mediana_teste_espanhol_candidato</th>\n",
       "      <th>mediana_teste_logica_candidato</th>\n",
       "      <th>mediana_teste_outros_candidato</th>\n",
       "      <th>cargo_vaga</th>\n",
       "    </tr>\n",
       "  </thead>\n",
       "  <tbody>\n",
       "    <tr>\n",
       "      <th>0</th>\n",
       "      <td>0.790191</td>\n",
       "      <td>-0.492593</td>\n",
       "      <td>-0.696916</td>\n",
       "      <td>-0.452506</td>\n",
       "      <td>-0.316476</td>\n",
       "      <td>-0.458058</td>\n",
       "      <td>-0.182517</td>\n",
       "      <td>-0.468503</td>\n",
       "      <td>-0.521795</td>\n",
       "      <td>-0.301039</td>\n",
       "    </tr>\n",
       "    <tr>\n",
       "      <th>1</th>\n",
       "      <td>-1.266055</td>\n",
       "      <td>1.244005</td>\n",
       "      <td>0.407282</td>\n",
       "      <td>1.952312</td>\n",
       "      <td>-0.336973</td>\n",
       "      <td>2.318139</td>\n",
       "      <td>-0.182517</td>\n",
       "      <td>1.908075</td>\n",
       "      <td>1.582542</td>\n",
       "      <td>-0.301039</td>\n",
       "    </tr>\n",
       "    <tr>\n",
       "      <th>2</th>\n",
       "      <td>-1.266055</td>\n",
       "      <td>-0.080898</td>\n",
       "      <td>0.406763</td>\n",
       "      <td>1.708576</td>\n",
       "      <td>0.993823</td>\n",
       "      <td>2.243478</td>\n",
       "      <td>3.819071</td>\n",
       "      <td>1.603225</td>\n",
       "      <td>1.886391</td>\n",
       "      <td>-0.301039</td>\n",
       "    </tr>\n",
       "  </tbody>\n",
       "</table>\n",
       "</div>"
      ],
      "text/plain": [
       "   ultimo_salario_candidato  ...  cargo_vaga\n",
       "0                  0.790191  ...   -0.301039\n",
       "1                 -1.266055  ...   -0.301039\n",
       "2                 -1.266055  ...   -0.301039\n",
       "\n",
       "[3 rows x 10 columns]"
      ]
     },
     "execution_count": 10,
     "metadata": {},
     "output_type": "execute_result"
    }
   ],
   "source": [
    "df2 = pd.read_csv('arquivo_teste.csv', sep=',')\n",
    "del df2['Unnamed: 0']\n",
    "df2.head(3)"
   ]
  },
  {
   "cell_type": "code",
   "execution_count": null,
   "metadata": {
    "id": "bmUSAR20K4zO"
   },
   "outputs": [],
   "source": [
    "import keras\n",
    "from keras.models import Sequential\n",
    "from keras.layers import Dense\n",
    "from tensorflow import keras"
   ]
  },
  {
   "cell_type": "code",
   "execution_count": null,
   "metadata": {
    "id": "ok-Go6sWLTpH"
   },
   "outputs": [],
   "source": [
    "from sklearn.model_selection import train_test_split\n",
    "\n",
    "y = df1['aprovado_vaga']\n",
    "X = df1.drop('aprovado_vaga',axis=1)\n",
    "\n",
    "X_train, X_test, y_train, y_test = train_test_split(X, y, random_state = 1, test_size=0.20)"
   ]
  },
  {
   "cell_type": "code",
   "execution_count": null,
   "metadata": {
    "id": "d8osdyRIK_3V"
   },
   "outputs": [],
   "source": [
    "classificador = Sequential()\n",
    "classificador.add(Dense(units = 16, activation = 'relu', \n",
    "                        kernel_initializer = 'random_uniform', input_dim = 10))\n",
    "classificador.add(Dense(units = 16, activation = 'relu', \n",
    "                        kernel_initializer = 'random_uniform'))\n",
    "classificador.add(Dense(units = 1, activation = 'sigmoid'))\n",
    "\n"
   ]
  },
  {
   "cell_type": "code",
   "execution_count": null,
   "metadata": {
    "colab": {
     "base_uri": "https://localhost:8080/"
    },
    "id": "wOeRUIWrLobA",
    "outputId": "15fa67fa-897e-43c6-dcfd-3deebcdb2b2c"
   },
   "outputs": [
    {
     "name": "stderr",
     "output_type": "stream",
     "text": [
      "/usr/local/lib/python3.7/dist-packages/keras/optimizer_v2/adam.py:105: UserWarning: The `lr` argument is deprecated, use `learning_rate` instead.\n",
      "  super(Adam, self).__init__(name, **kwargs)\n"
     ]
    }
   ],
   "source": [
    "otimizador = keras.optimizers.Adam(lr = 0.001, decay = 0.0001, clipvalue = 0.5)\n",
    "classificador.compile(optimizer = otimizador, loss = 'binary_crossentropy',\n",
    "                      metrics = ['binary_accuracy'])"
   ]
  },
  {
   "cell_type": "code",
   "execution_count": null,
   "metadata": {
    "colab": {
     "base_uri": "https://localhost:8080/"
    },
    "id": "nSRmq_u5LyG0",
    "outputId": "04566717-a86c-40df-f538-a834bd38784e"
   },
   "outputs": [
    {
     "name": "stdout",
     "output_type": "stream",
     "text": [
      "Epoch 1/100\n",
      "1955/1955 [==============================] - 4s 2ms/step - loss: 0.3177 - binary_accuracy: 0.9060\n",
      "Epoch 2/100\n",
      "1955/1955 [==============================] - 3s 2ms/step - loss: 0.3041 - binary_accuracy: 0.9062\n",
      "Epoch 3/100\n",
      "1955/1955 [==============================] - 3s 2ms/step - loss: 0.3036 - binary_accuracy: 0.9062\n",
      "Epoch 4/100\n",
      "1955/1955 [==============================] - 3s 2ms/step - loss: 0.3037 - binary_accuracy: 0.9062\n",
      "Epoch 5/100\n",
      "1955/1955 [==============================] - 3s 2ms/step - loss: 0.3036 - binary_accuracy: 0.9062\n",
      "Epoch 6/100\n",
      "1955/1955 [==============================] - 3s 2ms/step - loss: 0.3033 - binary_accuracy: 0.9062\n",
      "Epoch 7/100\n",
      "1955/1955 [==============================] - 3s 2ms/step - loss: 0.3029 - binary_accuracy: 0.9062\n",
      "Epoch 8/100\n",
      "1955/1955 [==============================] - 3s 2ms/step - loss: 0.3031 - binary_accuracy: 0.9062\n",
      "Epoch 9/100\n",
      "1955/1955 [==============================] - 3s 2ms/step - loss: 0.3030 - binary_accuracy: 0.9062\n",
      "Epoch 10/100\n",
      "1955/1955 [==============================] - 3s 2ms/step - loss: 0.3027 - binary_accuracy: 0.9062\n",
      "Epoch 11/100\n",
      "1955/1955 [==============================] - 3s 2ms/step - loss: 0.3026 - binary_accuracy: 0.9062\n",
      "Epoch 12/100\n",
      "1955/1955 [==============================] - 3s 2ms/step - loss: 0.3025 - binary_accuracy: 0.9062\n",
      "Epoch 13/100\n",
      "1955/1955 [==============================] - 3s 2ms/step - loss: 0.3026 - binary_accuracy: 0.9062\n",
      "Epoch 14/100\n",
      "1955/1955 [==============================] - 3s 2ms/step - loss: 0.3025 - binary_accuracy: 0.9062\n",
      "Epoch 15/100\n",
      "1955/1955 [==============================] - 3s 2ms/step - loss: 0.3023 - binary_accuracy: 0.9062\n",
      "Epoch 16/100\n",
      "1955/1955 [==============================] - 3s 2ms/step - loss: 0.3022 - binary_accuracy: 0.9062\n",
      "Epoch 17/100\n",
      "1955/1955 [==============================] - 3s 2ms/step - loss: 0.3021 - binary_accuracy: 0.9062\n",
      "Epoch 18/100\n",
      "1955/1955 [==============================] - 3s 2ms/step - loss: 0.3022 - binary_accuracy: 0.9062\n",
      "Epoch 19/100\n",
      "1955/1955 [==============================] - 3s 2ms/step - loss: 0.3021 - binary_accuracy: 0.9062\n",
      "Epoch 20/100\n",
      "1955/1955 [==============================] - 3s 2ms/step - loss: 0.3021 - binary_accuracy: 0.9062\n",
      "Epoch 21/100\n",
      "1955/1955 [==============================] - 3s 2ms/step - loss: 0.3020 - binary_accuracy: 0.9062\n",
      "Epoch 22/100\n",
      "1955/1955 [==============================] - 3s 2ms/step - loss: 0.3019 - binary_accuracy: 0.9062\n",
      "Epoch 23/100\n",
      "1955/1955 [==============================] - 3s 2ms/step - loss: 0.3019 - binary_accuracy: 0.9062\n",
      "Epoch 24/100\n",
      "1955/1955 [==============================] - 3s 2ms/step - loss: 0.3019 - binary_accuracy: 0.9062\n",
      "Epoch 25/100\n",
      "1955/1955 [==============================] - 3s 2ms/step - loss: 0.3019 - binary_accuracy: 0.9062\n",
      "Epoch 26/100\n",
      "1955/1955 [==============================] - 3s 2ms/step - loss: 0.3018 - binary_accuracy: 0.9062\n",
      "Epoch 27/100\n",
      "1955/1955 [==============================] - 3s 2ms/step - loss: 0.3017 - binary_accuracy: 0.9062\n",
      "Epoch 28/100\n",
      "1955/1955 [==============================] - 3s 2ms/step - loss: 0.3017 - binary_accuracy: 0.9062\n",
      "Epoch 29/100\n",
      "1955/1955 [==============================] - 3s 2ms/step - loss: 0.3017 - binary_accuracy: 0.9062\n",
      "Epoch 30/100\n",
      "1955/1955 [==============================] - 3s 2ms/step - loss: 0.3015 - binary_accuracy: 0.9062\n",
      "Epoch 31/100\n",
      "1955/1955 [==============================] - 3s 2ms/step - loss: 0.3015 - binary_accuracy: 0.9062\n",
      "Epoch 32/100\n",
      "1955/1955 [==============================] - 3s 2ms/step - loss: 0.3016 - binary_accuracy: 0.9062\n",
      "Epoch 33/100\n",
      "1955/1955 [==============================] - 3s 2ms/step - loss: 0.3015 - binary_accuracy: 0.9062\n",
      "Epoch 34/100\n",
      "1955/1955 [==============================] - 3s 2ms/step - loss: 0.3015 - binary_accuracy: 0.9062\n",
      "Epoch 35/100\n",
      "1955/1955 [==============================] - 3s 2ms/step - loss: 0.3015 - binary_accuracy: 0.9062\n",
      "Epoch 36/100\n",
      "1955/1955 [==============================] - 3s 2ms/step - loss: 0.3015 - binary_accuracy: 0.9062\n",
      "Epoch 37/100\n",
      "1955/1955 [==============================] - 3s 2ms/step - loss: 0.3014 - binary_accuracy: 0.9062\n",
      "Epoch 38/100\n",
      "1955/1955 [==============================] - 3s 2ms/step - loss: 0.3014 - binary_accuracy: 0.9062\n",
      "Epoch 39/100\n",
      "1955/1955 [==============================] - 3s 2ms/step - loss: 0.3014 - binary_accuracy: 0.9062\n",
      "Epoch 40/100\n",
      "1955/1955 [==============================] - 3s 2ms/step - loss: 0.3013 - binary_accuracy: 0.9062\n",
      "Epoch 41/100\n",
      "1955/1955 [==============================] - 3s 2ms/step - loss: 0.3013 - binary_accuracy: 0.9062\n",
      "Epoch 42/100\n",
      "1955/1955 [==============================] - 3s 2ms/step - loss: 0.3012 - binary_accuracy: 0.9062\n",
      "Epoch 43/100\n",
      "1955/1955 [==============================] - 3s 2ms/step - loss: 0.3012 - binary_accuracy: 0.9062\n",
      "Epoch 44/100\n",
      "1955/1955 [==============================] - 3s 2ms/step - loss: 0.3013 - binary_accuracy: 0.9062\n",
      "Epoch 45/100\n",
      "1955/1955 [==============================] - 3s 2ms/step - loss: 0.3012 - binary_accuracy: 0.9062\n",
      "Epoch 46/100\n",
      "1955/1955 [==============================] - 3s 2ms/step - loss: 0.3010 - binary_accuracy: 0.9062\n",
      "Epoch 47/100\n",
      "1955/1955 [==============================] - 3s 2ms/step - loss: 0.3011 - binary_accuracy: 0.9062\n",
      "Epoch 48/100\n",
      "1955/1955 [==============================] - 3s 2ms/step - loss: 0.3011 - binary_accuracy: 0.9062\n",
      "Epoch 49/100\n",
      "1955/1955 [==============================] - 3s 2ms/step - loss: 0.3010 - binary_accuracy: 0.9062\n",
      "Epoch 50/100\n",
      "1955/1955 [==============================] - 3s 2ms/step - loss: 0.3010 - binary_accuracy: 0.9062\n",
      "Epoch 51/100\n",
      "1955/1955 [==============================] - 3s 2ms/step - loss: 0.3011 - binary_accuracy: 0.9062\n",
      "Epoch 52/100\n",
      "1955/1955 [==============================] - 3s 2ms/step - loss: 0.3010 - binary_accuracy: 0.9062\n",
      "Epoch 53/100\n",
      "1955/1955 [==============================] - 3s 2ms/step - loss: 0.3010 - binary_accuracy: 0.9062\n",
      "Epoch 54/100\n",
      "1955/1955 [==============================] - 3s 2ms/step - loss: 0.3009 - binary_accuracy: 0.9062\n",
      "Epoch 55/100\n",
      "1955/1955 [==============================] - 3s 2ms/step - loss: 0.3010 - binary_accuracy: 0.9062\n",
      "Epoch 56/100\n",
      "1955/1955 [==============================] - 3s 2ms/step - loss: 0.3010 - binary_accuracy: 0.9062\n",
      "Epoch 57/100\n",
      "1955/1955 [==============================] - 3s 2ms/step - loss: 0.3008 - binary_accuracy: 0.9062\n",
      "Epoch 58/100\n",
      "1955/1955 [==============================] - 3s 2ms/step - loss: 0.3008 - binary_accuracy: 0.9062\n",
      "Epoch 59/100\n",
      "1955/1955 [==============================] - 3s 2ms/step - loss: 0.3009 - binary_accuracy: 0.9062\n",
      "Epoch 60/100\n",
      "1955/1955 [==============================] - 3s 2ms/step - loss: 0.3009 - binary_accuracy: 0.9062\n",
      "Epoch 61/100\n",
      "1955/1955 [==============================] - 3s 2ms/step - loss: 0.3008 - binary_accuracy: 0.9062\n",
      "Epoch 62/100\n",
      "1955/1955 [==============================] - 3s 2ms/step - loss: 0.3007 - binary_accuracy: 0.9062\n",
      "Epoch 63/100\n",
      "1955/1955 [==============================] - 3s 2ms/step - loss: 0.3008 - binary_accuracy: 0.9062\n",
      "Epoch 64/100\n",
      "1955/1955 [==============================] - 3s 2ms/step - loss: 0.3007 - binary_accuracy: 0.9062\n",
      "Epoch 65/100\n",
      "1955/1955 [==============================] - 3s 2ms/step - loss: 0.3008 - binary_accuracy: 0.9062\n",
      "Epoch 66/100\n",
      "1955/1955 [==============================] - 3s 2ms/step - loss: 0.3007 - binary_accuracy: 0.9062\n",
      "Epoch 67/100\n",
      "1955/1955 [==============================] - 3s 2ms/step - loss: 0.3007 - binary_accuracy: 0.9062\n",
      "Epoch 68/100\n",
      "1955/1955 [==============================] - 3s 2ms/step - loss: 0.3008 - binary_accuracy: 0.9062\n",
      "Epoch 69/100\n",
      "1955/1955 [==============================] - 3s 2ms/step - loss: 0.3007 - binary_accuracy: 0.9062\n",
      "Epoch 70/100\n",
      "1955/1955 [==============================] - 3s 2ms/step - loss: 0.3007 - binary_accuracy: 0.9062\n",
      "Epoch 71/100\n",
      "1955/1955 [==============================] - 3s 2ms/step - loss: 0.3007 - binary_accuracy: 0.9062\n",
      "Epoch 72/100\n",
      "1955/1955 [==============================] - 3s 2ms/step - loss: 0.3007 - binary_accuracy: 0.9062\n",
      "Epoch 73/100\n",
      "1955/1955 [==============================] - 3s 2ms/step - loss: 0.3007 - binary_accuracy: 0.9062\n",
      "Epoch 74/100\n",
      "1955/1955 [==============================] - 3s 2ms/step - loss: 0.3006 - binary_accuracy: 0.9062\n",
      "Epoch 75/100\n",
      "1955/1955 [==============================] - 3s 2ms/step - loss: 0.3006 - binary_accuracy: 0.9062\n",
      "Epoch 76/100\n",
      "1955/1955 [==============================] - 3s 2ms/step - loss: 0.3006 - binary_accuracy: 0.9062\n",
      "Epoch 77/100\n",
      "1955/1955 [==============================] - 3s 2ms/step - loss: 0.3006 - binary_accuracy: 0.9062\n",
      "Epoch 78/100\n",
      "1955/1955 [==============================] - 3s 2ms/step - loss: 0.3005 - binary_accuracy: 0.9062\n",
      "Epoch 79/100\n",
      "1955/1955 [==============================] - 3s 2ms/step - loss: 0.3006 - binary_accuracy: 0.9062\n",
      "Epoch 80/100\n",
      "1955/1955 [==============================] - 3s 2ms/step - loss: 0.3006 - binary_accuracy: 0.9062\n",
      "Epoch 81/100\n",
      "1955/1955 [==============================] - 3s 2ms/step - loss: 0.3005 - binary_accuracy: 0.9062\n",
      "Epoch 82/100\n",
      "1955/1955 [==============================] - 3s 2ms/step - loss: 0.3005 - binary_accuracy: 0.9062\n",
      "Epoch 83/100\n",
      "1955/1955 [==============================] - 3s 2ms/step - loss: 0.3006 - binary_accuracy: 0.9062\n",
      "Epoch 84/100\n",
      "1955/1955 [==============================] - 3s 2ms/step - loss: 0.3005 - binary_accuracy: 0.9062\n",
      "Epoch 85/100\n",
      "1955/1955 [==============================] - 3s 2ms/step - loss: 0.3005 - binary_accuracy: 0.9062\n",
      "Epoch 86/100\n",
      "1955/1955 [==============================] - 3s 2ms/step - loss: 0.3005 - binary_accuracy: 0.9062\n",
      "Epoch 87/100\n",
      "1955/1955 [==============================] - 3s 2ms/step - loss: 0.3004 - binary_accuracy: 0.9062\n",
      "Epoch 88/100\n",
      "1955/1955 [==============================] - 3s 2ms/step - loss: 0.3004 - binary_accuracy: 0.9062\n",
      "Epoch 89/100\n",
      "1955/1955 [==============================] - 3s 2ms/step - loss: 0.3005 - binary_accuracy: 0.9062\n",
      "Epoch 90/100\n",
      "1955/1955 [==============================] - 3s 2ms/step - loss: 0.3005 - binary_accuracy: 0.9062\n",
      "Epoch 91/100\n",
      "1955/1955 [==============================] - 3s 2ms/step - loss: 0.3005 - binary_accuracy: 0.9062\n",
      "Epoch 92/100\n",
      "1955/1955 [==============================] - 3s 2ms/step - loss: 0.3004 - binary_accuracy: 0.9062\n",
      "Epoch 93/100\n",
      "1955/1955 [==============================] - 3s 2ms/step - loss: 0.3005 - binary_accuracy: 0.9062\n",
      "Epoch 94/100\n",
      "1955/1955 [==============================] - 3s 2ms/step - loss: 0.3004 - binary_accuracy: 0.9062\n",
      "Epoch 95/100\n",
      "1955/1955 [==============================] - 3s 2ms/step - loss: 0.3004 - binary_accuracy: 0.9062\n",
      "Epoch 96/100\n",
      "1955/1955 [==============================] - 3s 2ms/step - loss: 0.3004 - binary_accuracy: 0.9062\n",
      "Epoch 97/100\n",
      "1955/1955 [==============================] - 3s 2ms/step - loss: 0.3005 - binary_accuracy: 0.9062\n",
      "Epoch 98/100\n",
      "1955/1955 [==============================] - 3s 2ms/step - loss: 0.3004 - binary_accuracy: 0.9062\n",
      "Epoch 99/100\n",
      "1955/1955 [==============================] - 3s 2ms/step - loss: 0.3004 - binary_accuracy: 0.9062\n",
      "Epoch 100/100\n",
      "1955/1955 [==============================] - 3s 2ms/step - loss: 0.3004 - binary_accuracy: 0.9062\n",
      "CPU times: user 6min 14s, sys: 22.3 s, total: 6min 36s\n",
      "Wall time: 5min 22s\n"
     ]
    },
    {
     "data": {
      "text/plain": [
       "<keras.callbacks.History at 0x7f7cdd911310>"
      ]
     },
     "execution_count": 63,
     "metadata": {},
     "output_type": "execute_result"
    }
   ],
   "source": [
    "%%time\n",
    "classificador.fit(X_train,y_train, batch_size = 10, epochs = 100)\n"
   ]
  },
  {
   "cell_type": "code",
   "execution_count": null,
   "metadata": {
    "colab": {
     "base_uri": "https://localhost:8080/"
    },
    "id": "ey5TNHATNL9c",
    "outputId": "254dc571-06fe-4b7b-b801-49c319cb2b96"
   },
   "outputs": [
    {
     "name": "stdout",
     "output_type": "stream",
     "text": [
      "[array([[ 6.47568330e-02,  1.20822918e-02,  4.01584338e-03,\n",
      "         9.44001600e-02,  1.28185540e-01,  8.70973095e-02,\n",
      "         1.28477797e-01,  8.68291482e-02,  6.93140626e-02,\n",
      "         1.70758680e-01,  4.99535613e-02,  2.26666197e-01,\n",
      "         1.09848037e-01,  8.37488007e-03,  1.81432158e-01,\n",
      "         1.59274146e-01],\n",
      "       [ 3.40041108e-02,  3.96602042e-02,  5.92170469e-02,\n",
      "         3.44547406e-02,  1.40232384e-01,  1.12857437e-02,\n",
      "         1.31798774e-01,  6.44424185e-02,  3.62776592e-02,\n",
      "        -5.59614412e-02, -8.60548392e-02, -7.49792233e-02,\n",
      "         3.47450413e-02,  5.53570278e-02, -4.43681665e-02,\n",
      "        -2.53399946e-02],\n",
      "       [ 1.80914789e-01,  1.99162379e-01,  2.00716332e-01,\n",
      "         1.52795479e-01,  4.14443873e-02,  9.66441333e-02,\n",
      "         9.29071829e-02,  2.71088537e-02,  2.26807103e-01,\n",
      "         2.33225077e-02,  1.91572532e-01, -1.14181921e-01,\n",
      "         1.21307306e-01,  1.56109571e-01, -3.59638520e-02,\n",
      "        -6.36730939e-02],\n",
      "       [ 1.74275830e-01,  1.79193512e-01,  2.13859677e-01,\n",
      "         1.46614864e-01, -1.20685376e-01,  1.33589759e-01,\n",
      "        -5.02275629e-03, -9.97758564e-03,  1.64686278e-01,\n",
      "         2.30810288e-02,  1.85134798e-01, -8.49927738e-02,\n",
      "         1.46164536e-01,  1.82027340e-01, -8.81816521e-02,\n",
      "        -1.19768918e-01],\n",
      "       [ 8.30852389e-02,  6.59187436e-02,  4.65416908e-02,\n",
      "         1.65296777e-03,  7.20891356e-03,  6.74492400e-03,\n",
      "         5.17581813e-02, -1.73644662e-01,  3.47372517e-02,\n",
      "        -1.26027912e-01, -1.55649483e-01, -1.98277369e-01,\n",
      "         3.17271873e-02,  2.07997803e-02, -2.13990018e-01,\n",
      "        -1.87977135e-01],\n",
      "       [ 5.58719561e-02,  3.11518591e-02,  1.32866595e-02,\n",
      "         4.40657064e-02, -7.57057220e-02, -1.25847757e-01,\n",
      "        -1.98687956e-01, -9.98061523e-02,  7.95814395e-02,\n",
      "        -8.33729953e-02,  8.86746198e-02, -2.12308943e-01,\n",
      "         6.92302734e-03,  4.20378223e-02, -1.37096047e-01,\n",
      "        -1.08761653e-01],\n",
      "       [ 5.29393367e-02, -2.36279555e-02, -3.60997282e-02,\n",
      "        -9.17056724e-02,  1.73572019e-01, -2.49458551e-02,\n",
      "        -2.12450381e-02,  9.69721526e-02,  2.40915921e-02,\n",
      "         3.53367254e-02, -8.54018331e-02, -1.13502756e-01,\n",
      "        -4.41333354e-02,  1.93093512e-02, -8.25343803e-02,\n",
      "        -4.75172959e-02],\n",
      "       [ 1.28112763e-01,  6.06952421e-02,  9.42434520e-02,\n",
      "         2.50099432e-02,  3.48271012e-01,  5.92389442e-02,\n",
      "         2.56235123e-01,  8.50863233e-02,  1.05954953e-01,\n",
      "         6.79082889e-03,  6.19836077e-02, -1.91301655e-03,\n",
      "         9.85188186e-02,  1.50502667e-01, -1.76138096e-02,\n",
      "        -3.77297625e-02],\n",
      "       [-1.60616543e-02, -1.09333709e-01, -4.83279750e-02,\n",
      "        -8.85377526e-02, -6.00178093e-02, -5.14269061e-02,\n",
      "        -1.09328993e-01, -6.20136112e-02, -6.19195066e-02,\n",
      "        -9.61114690e-02,  1.98437478e-02, -1.32384554e-01,\n",
      "        -1.36099070e-01, -5.84433824e-02, -1.48638293e-01,\n",
      "        -1.70598418e-01],\n",
      "       [-5.40917106e-02, -3.38350646e-02, -4.61461321e-02,\n",
      "         2.61974186e-01, -1.89851791e-01,  1.88627213e-01,\n",
      "         2.21331149e-01, -6.25010610e-01, -4.74422686e-02,\n",
      "         3.64366509e-02, -4.32909204e-04,  1.28276013e-02,\n",
      "         2.52740234e-01, -5.05015813e-02, -2.50540227e-01,\n",
      "        -2.46149391e-01]], dtype=float32), array([-0.04285676, -0.05065739, -0.0419389 ,  0.04783248, -0.13482857,\n",
      "       -0.02595014, -0.05287626, -0.0090955 , -0.0346412 ,  0.04309047,\n",
      "       -0.09438504,  0.14837484,  0.05304229, -0.04385423,  0.11502805,\n",
      "        0.11501577], dtype=float32)]\n",
      "2\n"
     ]
    }
   ],
   "source": [
    "pesos0 = classificador.layers[0].get_weights()\n",
    "print(pesos0)\n",
    "print(len(pesos0))"
   ]
  },
  {
   "cell_type": "code",
   "execution_count": null,
   "metadata": {
    "id": "8mbz1Ml_Os6x"
   },
   "outputs": [],
   "source": [
    "pesos1 = classificador.layers[1].get_weights()\n",
    "pesos2 = classificador.layers[2].get_weights()"
   ]
  },
  {
   "cell_type": "code",
   "execution_count": null,
   "metadata": {
    "colab": {
     "base_uri": "https://localhost:8080/"
    },
    "id": "-XcdP9yROy4i",
    "outputId": "951d324c-0d36-4204-d9e0-c5a2f2eff207"
   },
   "outputs": [
    {
     "name": "stdout",
     "output_type": "stream",
     "text": [
      "Nova Acuracia: 0.8459\n",
      "Nova precisão: 0.2692\n",
      "Nova recall: 0.1233\n",
      "Nova F1 Score: 0.1692\n",
      "\n",
      "\n",
      "[[4281  152]\n",
      " [ 398   56]]\n"
     ]
    }
   ],
   "source": [
    "previsoes = classificador.predict(X_test)\n",
    "previsoes = (previsoes > 0.20)\n",
    "from sklearn.metrics import confusion_matrix, accuracy_score, precision_score, recall_score, f1_score\n",
    "precisao = accuracy_score(y_test, previsoes)\n",
    "matriz = confusion_matrix(y_test, previsoes)\n",
    "precision_score = precision_score(y_test, previsoes)\n",
    "recall = recall_score(y_test, previsoes)\n",
    "f1 = f1_score(y_test, previsoes)\n",
    "\n",
    "print('Nova Acuracia: {:.4f}'.format(Acuracia))\n",
    "print('Nova precisão: {:.4f}'.format(precision_score))\n",
    "print('Nova recall: {:.4f}'.format(recall))\n",
    "print('Nova F1 Score: {:.4f}'.format(f1))\n",
    "print('\\n')\n",
    "print(matriz)\n"
   ]
  },
  {
   "cell_type": "markdown",
   "metadata": {
    "id": "rUljzVLPar3_"
   },
   "source": [
    "O principal motivo pela escolha em utilizar o 0,20 é o fato da matriz de confusão ter dado o melhor retorno, com base nas variáveis. Apesar de que a pontuação 0,11 obteria o melhor F1-Score, porém o número de erros na matriz de confusao iria aumentar muito. "
   ]
  },
  {
   "cell_type": "code",
   "execution_count": null,
   "metadata": {
    "colab": {
     "base_uri": "https://localhost:8080/"
    },
    "id": "PhZOiERCPNj7",
    "outputId": "2e51b9d4-c0e0-4431-8e98-3d23176c1955"
   },
   "outputs": [
    {
     "name": "stdout",
     "output_type": "stream",
     "text": [
      "153/153 [==============================] - 0s 1ms/step - loss: 0.2986 - binary_accuracy: 0.9071\n"
     ]
    },
    {
     "data": {
      "text/plain": [
       "[0.29861220717430115, 0.9071004986763]"
      ]
     },
     "execution_count": 94,
     "metadata": {},
     "output_type": "execute_result"
    }
   ],
   "source": [
    "resultado = classificador.evaluate(X_test, y_test)\n",
    "resultado"
   ]
  },
  {
   "cell_type": "code",
   "execution_count": null,
   "metadata": {
    "id": "SOqNxjdLQGcp"
   },
   "outputs": [],
   "source": [
    "#Lidando com classes desbalanceadas\n",
    "from imblearn.over_sampling import SMOTE\n",
    "from imblearn.under_sampling import NearMiss"
   ]
  },
  {
   "cell_type": "code",
   "execution_count": null,
   "metadata": {
    "colab": {
     "base_uri": "https://localhost:8080/",
     "height": 282
    },
    "id": "22UwL_wAQLKU",
    "outputId": "705c1270-3744-4f83-f9ad-557c45747b62"
   },
   "outputs": [
    {
     "data": {
      "image/png": "[encoded data removed]",
      "text/plain": [
       "<Figure size 432x288 with 1 Axes>"
      ]
     },
     "metadata": {},
     "output_type": "display_data"
    }
   ],
   "source": [
    "nr = NearMiss()\n",
    "\n",
    "X, y = nr.fit_resample(X, y)\n",
    "\n",
    "ax = sns.countplot(x=y)"
   ]
  },
  {
   "cell_type": "code",
   "execution_count": null,
   "metadata": {
    "id": "0tLwlPR2QjUB"
   },
   "outputs": [],
   "source": [
    "X_train, X_test, y_train, y_test = train_test_split(X, y, test_size = 0.20, stratify = y, random_state=2)"
   ]
  },
  {
   "cell_type": "code",
   "execution_count": null,
   "metadata": {
    "colab": {
     "base_uri": "https://localhost:8080/"
    },
    "id": "DJmXAS0xQrSe",
    "outputId": "07bc9ba5-72bc-41e1-e5a1-960ce557414f"
   },
   "outputs": [
    {
     "name": "stderr",
     "output_type": "stream",
     "text": [
      "/usr/local/lib/python3.7/dist-packages/keras/optimizer_v2/adam.py:105: UserWarning: The `lr` argument is deprecated, use `learning_rate` instead.\n",
      "  super(Adam, self).__init__(name, **kwargs)\n"
     ]
    }
   ],
   "source": [
    "classificador1 = Sequential()\n",
    "classificador1.add(Dense(units = 16, activation = 'relu', \n",
    "                        kernel_initializer = 'random_uniform', input_dim = 10))\n",
    "classificador1.add(Dense(units = 16, activation = 'relu', \n",
    "                        kernel_initializer = 'random_uniform'))\n",
    "classificador1.add(Dense(units = 1, activation = 'sigmoid'))\n",
    "\n",
    "otimizador = keras.optimizers.Adam(lr = 0.001, decay = 0.0001, clipvalue = 0.5)\n",
    "classificador1.compile(optimizer = otimizador, loss = 'binary_crossentropy',\n",
    "                      metrics = ['binary_accuracy'])\n",
    "\n"
   ]
  },
  {
   "cell_type": "code",
   "execution_count": null,
   "metadata": {
    "colab": {
     "base_uri": "https://localhost:8080/"
    },
    "id": "U-ccfGYWQ2-K",
    "outputId": "68de9893-524b-4265-9ff7-f26d9ee8220a"
   },
   "outputs": [
    {
     "name": "stdout",
     "output_type": "stream",
     "text": [
      "Epoch 1/250\n",
      "366/366 [==============================] - 1s 2ms/step - loss: 0.6062 - binary_accuracy: 0.6226\n",
      "Epoch 2/250\n",
      "366/366 [==============================] - 1s 2ms/step - loss: 0.5515 - binary_accuracy: 0.6592\n",
      "Epoch 3/250\n",
      "366/366 [==============================] - 1s 2ms/step - loss: 0.5415 - binary_accuracy: 0.6753\n",
      "Epoch 4/250\n",
      "366/366 [==============================] - 1s 2ms/step - loss: 0.5322 - binary_accuracy: 0.6890\n",
      "Epoch 5/250\n",
      "366/366 [==============================] - 1s 2ms/step - loss: 0.5231 - binary_accuracy: 0.6991\n",
      "Epoch 6/250\n",
      "366/366 [==============================] - 1s 2ms/step - loss: 0.5146 - binary_accuracy: 0.7152\n",
      "Epoch 7/250\n",
      "366/366 [==============================] - 1s 2ms/step - loss: 0.5087 - binary_accuracy: 0.7237\n",
      "Epoch 8/250\n",
      "366/366 [==============================] - 1s 2ms/step - loss: 0.5034 - binary_accuracy: 0.7248\n",
      "Epoch 9/250\n",
      "366/366 [==============================] - 1s 2ms/step - loss: 0.4990 - binary_accuracy: 0.7300\n",
      "Epoch 10/250\n",
      "366/366 [==============================] - 1s 2ms/step - loss: 0.4960 - binary_accuracy: 0.7281\n",
      "Epoch 11/250\n",
      "366/366 [==============================] - 1s 2ms/step - loss: 0.4920 - binary_accuracy: 0.7305\n",
      "Epoch 12/250\n",
      "366/366 [==============================] - 1s 2ms/step - loss: 0.4889 - binary_accuracy: 0.7286\n",
      "Epoch 13/250\n",
      "366/366 [==============================] - 1s 2ms/step - loss: 0.4850 - binary_accuracy: 0.7338\n",
      "Epoch 14/250\n",
      "366/366 [==============================] - 1s 2ms/step - loss: 0.4849 - binary_accuracy: 0.7344\n",
      "Epoch 15/250\n",
      "366/366 [==============================] - 1s 2ms/step - loss: 0.4814 - binary_accuracy: 0.7423\n",
      "Epoch 16/250\n",
      "366/366 [==============================] - 1s 2ms/step - loss: 0.4791 - binary_accuracy: 0.7436\n",
      "Epoch 17/250\n",
      "366/366 [==============================] - 1s 2ms/step - loss: 0.4725 - binary_accuracy: 0.7508\n",
      "Epoch 18/250\n",
      "366/366 [==============================] - 1s 2ms/step - loss: 0.4689 - binary_accuracy: 0.7540\n",
      "Epoch 19/250\n",
      "366/366 [==============================] - 1s 2ms/step - loss: 0.4659 - binary_accuracy: 0.7573\n",
      "Epoch 20/250\n",
      "366/366 [==============================] - 1s 2ms/step - loss: 0.4614 - binary_accuracy: 0.7570\n",
      "Epoch 21/250\n",
      "366/366 [==============================] - 1s 2ms/step - loss: 0.4573 - binary_accuracy: 0.7669\n",
      "Epoch 22/250\n",
      "366/366 [==============================] - 1s 2ms/step - loss: 0.4559 - binary_accuracy: 0.7693\n",
      "Epoch 23/250\n",
      "366/366 [==============================] - 1s 2ms/step - loss: 0.4528 - binary_accuracy: 0.7677\n",
      "Epoch 24/250\n",
      "366/366 [==============================] - 1s 2ms/step - loss: 0.4485 - binary_accuracy: 0.7811\n",
      "Epoch 25/250\n",
      "366/366 [==============================] - 1s 2ms/step - loss: 0.4432 - binary_accuracy: 0.7855\n",
      "Epoch 26/250\n",
      "366/366 [==============================] - 1s 2ms/step - loss: 0.4409 - binary_accuracy: 0.7874\n",
      "Epoch 27/250\n",
      "366/366 [==============================] - 1s 2ms/step - loss: 0.4392 - binary_accuracy: 0.7917\n",
      "Epoch 28/250\n",
      "366/366 [==============================] - 1s 2ms/step - loss: 0.4360 - binary_accuracy: 0.7997\n",
      "Epoch 29/250\n",
      "366/366 [==============================] - 1s 2ms/step - loss: 0.4308 - binary_accuracy: 0.8032\n",
      "Epoch 30/250\n",
      "366/366 [==============================] - 1s 2ms/step - loss: 0.4294 - binary_accuracy: 0.8024\n",
      "Epoch 31/250\n",
      "366/366 [==============================] - 1s 2ms/step - loss: 0.4269 - binary_accuracy: 0.8068\n",
      "Epoch 32/250\n",
      "366/366 [==============================] - 1s 2ms/step - loss: 0.4275 - binary_accuracy: 0.8043\n",
      "Epoch 33/250\n",
      "366/366 [==============================] - 1s 2ms/step - loss: 0.4247 - binary_accuracy: 0.8106\n",
      "Epoch 34/250\n",
      "366/366 [==============================] - 1s 2ms/step - loss: 0.4232 - binary_accuracy: 0.8057\n",
      "Epoch 35/250\n",
      "366/366 [==============================] - 1s 2ms/step - loss: 0.4204 - binary_accuracy: 0.8114\n",
      "Epoch 36/250\n",
      "366/366 [==============================] - 1s 2ms/step - loss: 0.4194 - binary_accuracy: 0.8101\n",
      "Epoch 37/250\n",
      "366/366 [==============================] - 1s 2ms/step - loss: 0.4156 - binary_accuracy: 0.8133\n",
      "Epoch 38/250\n",
      "366/366 [==============================] - 1s 2ms/step - loss: 0.4147 - binary_accuracy: 0.8185\n",
      "Epoch 39/250\n",
      "366/366 [==============================] - 1s 2ms/step - loss: 0.4138 - binary_accuracy: 0.8169\n",
      "Epoch 40/250\n",
      "366/366 [==============================] - 1s 2ms/step - loss: 0.4140 - binary_accuracy: 0.8183\n",
      "Epoch 41/250\n",
      "366/366 [==============================] - 1s 2ms/step - loss: 0.4128 - binary_accuracy: 0.8161\n",
      "Epoch 42/250\n",
      "366/366 [==============================] - 1s 2ms/step - loss: 0.4122 - binary_accuracy: 0.8193\n",
      "Epoch 43/250\n",
      "366/366 [==============================] - 1s 2ms/step - loss: 0.4098 - binary_accuracy: 0.8174\n",
      "Epoch 44/250\n",
      "366/366 [==============================] - 1s 2ms/step - loss: 0.4105 - binary_accuracy: 0.8117\n",
      "Epoch 45/250\n",
      "366/366 [==============================] - 1s 2ms/step - loss: 0.4084 - binary_accuracy: 0.8213\n",
      "Epoch 46/250\n",
      "366/366 [==============================] - 1s 2ms/step - loss: 0.4075 - binary_accuracy: 0.8163\n",
      "Epoch 47/250\n",
      "366/366 [==============================] - 1s 2ms/step - loss: 0.4079 - binary_accuracy: 0.8213\n",
      "Epoch 48/250\n",
      "366/366 [==============================] - 1s 2ms/step - loss: 0.4073 - binary_accuracy: 0.8196\n",
      "Epoch 49/250\n",
      "366/366 [==============================] - 1s 2ms/step - loss: 0.4049 - binary_accuracy: 0.8202\n",
      "Epoch 50/250\n",
      "366/366 [==============================] - 1s 2ms/step - loss: 0.4032 - binary_accuracy: 0.8191\n",
      "Epoch 51/250\n",
      "366/366 [==============================] - 1s 2ms/step - loss: 0.4019 - binary_accuracy: 0.8196\n",
      "Epoch 52/250\n",
      "366/366 [==============================] - 1s 2ms/step - loss: 0.4040 - binary_accuracy: 0.8183\n",
      "Epoch 53/250\n",
      "366/366 [==============================] - 1s 2ms/step - loss: 0.4018 - binary_accuracy: 0.8177\n",
      "Epoch 54/250\n",
      "366/366 [==============================] - 1s 2ms/step - loss: 0.4007 - binary_accuracy: 0.8158\n",
      "Epoch 55/250\n",
      "366/366 [==============================] - 1s 2ms/step - loss: 0.4005 - binary_accuracy: 0.8224\n",
      "Epoch 56/250\n",
      "366/366 [==============================] - 1s 2ms/step - loss: 0.3992 - binary_accuracy: 0.8204\n",
      "Epoch 57/250\n",
      "366/366 [==============================] - 1s 2ms/step - loss: 0.3988 - binary_accuracy: 0.8183\n",
      "Epoch 58/250\n",
      "366/366 [==============================] - 1s 2ms/step - loss: 0.3991 - binary_accuracy: 0.8185\n",
      "Epoch 59/250\n",
      "366/366 [==============================] - 1s 2ms/step - loss: 0.3959 - binary_accuracy: 0.8265\n",
      "Epoch 60/250\n",
      "366/366 [==============================] - 1s 2ms/step - loss: 0.3978 - binary_accuracy: 0.8234\n",
      "Epoch 61/250\n",
      "366/366 [==============================] - 1s 2ms/step - loss: 0.3965 - binary_accuracy: 0.8199\n",
      "Epoch 62/250\n",
      "366/366 [==============================] - 1s 2ms/step - loss: 0.3947 - binary_accuracy: 0.8221\n",
      "Epoch 63/250\n",
      "366/366 [==============================] - 1s 2ms/step - loss: 0.3941 - binary_accuracy: 0.8207\n",
      "Epoch 64/250\n",
      "366/366 [==============================] - 1s 2ms/step - loss: 0.3949 - binary_accuracy: 0.8218\n",
      "Epoch 65/250\n",
      "366/366 [==============================] - 1s 2ms/step - loss: 0.3933 - binary_accuracy: 0.8243\n",
      "Epoch 66/250\n",
      "366/366 [==============================] - 1s 2ms/step - loss: 0.3908 - binary_accuracy: 0.8270\n",
      "Epoch 67/250\n",
      "366/366 [==============================] - 1s 2ms/step - loss: 0.3938 - binary_accuracy: 0.8224\n",
      "Epoch 68/250\n",
      "366/366 [==============================] - 1s 2ms/step - loss: 0.3927 - binary_accuracy: 0.8213\n",
      "Epoch 69/250\n",
      "366/366 [==============================] - 1s 2ms/step - loss: 0.3932 - binary_accuracy: 0.8232\n",
      "Epoch 70/250\n",
      "366/366 [==============================] - 1s 2ms/step - loss: 0.3916 - binary_accuracy: 0.8284\n",
      "Epoch 71/250\n",
      "366/366 [==============================] - 1s 2ms/step - loss: 0.3906 - binary_accuracy: 0.8262\n",
      "Epoch 72/250\n",
      "366/366 [==============================] - 1s 2ms/step - loss: 0.3899 - binary_accuracy: 0.8254\n",
      "Epoch 73/250\n",
      "366/366 [==============================] - 1s 2ms/step - loss: 0.3915 - binary_accuracy: 0.8278\n",
      "Epoch 74/250\n",
      "366/366 [==============================] - 1s 2ms/step - loss: 0.3899 - binary_accuracy: 0.8278\n",
      "Epoch 75/250\n",
      "366/366 [==============================] - 1s 2ms/step - loss: 0.3917 - binary_accuracy: 0.8224\n",
      "Epoch 76/250\n",
      "366/366 [==============================] - 1s 2ms/step - loss: 0.3897 - binary_accuracy: 0.8240\n",
      "Epoch 77/250\n",
      "366/366 [==============================] - 1s 2ms/step - loss: 0.3890 - binary_accuracy: 0.8248\n",
      "Epoch 78/250\n",
      "366/366 [==============================] - 1s 2ms/step - loss: 0.3883 - binary_accuracy: 0.8275\n",
      "Epoch 79/250\n",
      "366/366 [==============================] - 1s 2ms/step - loss: 0.3904 - binary_accuracy: 0.8303\n",
      "Epoch 80/250\n",
      "366/366 [==============================] - 1s 2ms/step - loss: 0.3883 - binary_accuracy: 0.8275\n",
      "Epoch 81/250\n",
      "366/366 [==============================] - 1s 2ms/step - loss: 0.3879 - binary_accuracy: 0.8284\n",
      "Epoch 82/250\n",
      "366/366 [==============================] - 1s 2ms/step - loss: 0.3889 - binary_accuracy: 0.8240\n",
      "Epoch 83/250\n",
      "366/366 [==============================] - 1s 2ms/step - loss: 0.3880 - binary_accuracy: 0.8270\n",
      "Epoch 84/250\n",
      "366/366 [==============================] - 1s 2ms/step - loss: 0.3872 - binary_accuracy: 0.8311\n",
      "Epoch 85/250\n",
      "366/366 [==============================] - 1s 2ms/step - loss: 0.3882 - binary_accuracy: 0.8275\n",
      "Epoch 86/250\n",
      "366/366 [==============================] - 1s 2ms/step - loss: 0.3895 - binary_accuracy: 0.8265\n",
      "Epoch 87/250\n",
      "366/366 [==============================] - 1s 2ms/step - loss: 0.3876 - binary_accuracy: 0.8333\n",
      "Epoch 88/250\n",
      "366/366 [==============================] - 1s 2ms/step - loss: 0.3882 - binary_accuracy: 0.8297\n",
      "Epoch 89/250\n",
      "366/366 [==============================] - 1s 2ms/step - loss: 0.3875 - binary_accuracy: 0.8265\n",
      "Epoch 90/250\n",
      "366/366 [==============================] - 1s 2ms/step - loss: 0.3885 - binary_accuracy: 0.8292\n",
      "Epoch 91/250\n",
      "366/366 [==============================] - 1s 2ms/step - loss: 0.3858 - binary_accuracy: 0.8243\n",
      "Epoch 92/250\n",
      "366/366 [==============================] - 1s 2ms/step - loss: 0.3882 - binary_accuracy: 0.8284\n",
      "Epoch 93/250\n",
      "366/366 [==============================] - 1s 2ms/step - loss: 0.3867 - binary_accuracy: 0.8300\n",
      "Epoch 94/250\n",
      "366/366 [==============================] - 1s 2ms/step - loss: 0.3863 - binary_accuracy: 0.8308\n",
      "Epoch 95/250\n",
      "366/366 [==============================] - 1s 2ms/step - loss: 0.3855 - binary_accuracy: 0.8275\n",
      "Epoch 96/250\n",
      "366/366 [==============================] - 1s 2ms/step - loss: 0.3840 - binary_accuracy: 0.8311\n",
      "Epoch 97/250\n",
      "366/366 [==============================] - 1s 2ms/step - loss: 0.3859 - binary_accuracy: 0.8278\n",
      "Epoch 98/250\n",
      "366/366 [==============================] - 1s 2ms/step - loss: 0.3862 - binary_accuracy: 0.8265\n",
      "Epoch 99/250\n",
      "366/366 [==============================] - 1s 2ms/step - loss: 0.3864 - binary_accuracy: 0.8270\n",
      "Epoch 100/250\n",
      "366/366 [==============================] - 1s 2ms/step - loss: 0.3845 - binary_accuracy: 0.8275\n",
      "Epoch 101/250\n",
      "366/366 [==============================] - 1s 2ms/step - loss: 0.3858 - binary_accuracy: 0.8292\n",
      "Epoch 102/250\n",
      "366/366 [==============================] - 1s 2ms/step - loss: 0.3866 - binary_accuracy: 0.8306\n",
      "Epoch 103/250\n",
      "366/366 [==============================] - 1s 2ms/step - loss: 0.3862 - binary_accuracy: 0.8270\n",
      "Epoch 104/250\n",
      "366/366 [==============================] - 1s 2ms/step - loss: 0.3845 - binary_accuracy: 0.8278\n",
      "Epoch 105/250\n",
      "366/366 [==============================] - 1s 2ms/step - loss: 0.3853 - binary_accuracy: 0.8270\n",
      "Epoch 106/250\n",
      "366/366 [==============================] - 1s 2ms/step - loss: 0.3842 - binary_accuracy: 0.8327\n",
      "Epoch 107/250\n",
      "366/366 [==============================] - 1s 2ms/step - loss: 0.3833 - binary_accuracy: 0.8316\n",
      "Epoch 108/250\n",
      "366/366 [==============================] - 1s 2ms/step - loss: 0.3843 - binary_accuracy: 0.8306\n",
      "Epoch 109/250\n",
      "366/366 [==============================] - 1s 2ms/step - loss: 0.3834 - binary_accuracy: 0.8311\n",
      "Epoch 110/250\n",
      "366/366 [==============================] - 1s 2ms/step - loss: 0.3847 - binary_accuracy: 0.8281\n",
      "Epoch 111/250\n",
      "366/366 [==============================] - 1s 2ms/step - loss: 0.3838 - binary_accuracy: 0.8281\n",
      "Epoch 112/250\n",
      "366/366 [==============================] - 1s 2ms/step - loss: 0.3860 - binary_accuracy: 0.8267\n",
      "Epoch 113/250\n",
      "366/366 [==============================] - 1s 2ms/step - loss: 0.3826 - binary_accuracy: 0.8295\n",
      "Epoch 114/250\n",
      "366/366 [==============================] - 1s 2ms/step - loss: 0.3843 - binary_accuracy: 0.8289\n",
      "Epoch 115/250\n",
      "366/366 [==============================] - 1s 2ms/step - loss: 0.3841 - binary_accuracy: 0.8314\n",
      "Epoch 116/250\n",
      "366/366 [==============================] - 1s 2ms/step - loss: 0.3831 - binary_accuracy: 0.8311\n",
      "Epoch 117/250\n",
      "366/366 [==============================] - 1s 2ms/step - loss: 0.3831 - binary_accuracy: 0.8267\n",
      "Epoch 118/250\n",
      "366/366 [==============================] - 1s 2ms/step - loss: 0.3845 - binary_accuracy: 0.8281\n",
      "Epoch 119/250\n",
      "366/366 [==============================] - 1s 2ms/step - loss: 0.3844 - binary_accuracy: 0.8254\n",
      "Epoch 120/250\n",
      "366/366 [==============================] - 1s 2ms/step - loss: 0.3819 - binary_accuracy: 0.8306\n",
      "Epoch 121/250\n",
      "366/366 [==============================] - 1s 2ms/step - loss: 0.3825 - binary_accuracy: 0.8275\n",
      "Epoch 122/250\n",
      "366/366 [==============================] - 1s 2ms/step - loss: 0.3829 - binary_accuracy: 0.8303\n",
      "Epoch 123/250\n",
      "366/366 [==============================] - 1s 2ms/step - loss: 0.3815 - binary_accuracy: 0.8306\n",
      "Epoch 124/250\n",
      "366/366 [==============================] - 1s 2ms/step - loss: 0.3804 - binary_accuracy: 0.8281\n",
      "Epoch 125/250\n",
      "366/366 [==============================] - 1s 2ms/step - loss: 0.3819 - binary_accuracy: 0.8303\n",
      "Epoch 126/250\n",
      "366/366 [==============================] - 1s 2ms/step - loss: 0.3810 - binary_accuracy: 0.8322\n",
      "Epoch 127/250\n",
      "366/366 [==============================] - 1s 2ms/step - loss: 0.3824 - binary_accuracy: 0.8286\n",
      "Epoch 128/250\n",
      "366/366 [==============================] - 1s 2ms/step - loss: 0.3819 - binary_accuracy: 0.8300\n",
      "Epoch 129/250\n",
      "366/366 [==============================] - 1s 2ms/step - loss: 0.3814 - binary_accuracy: 0.8319\n",
      "Epoch 130/250\n",
      "366/366 [==============================] - 1s 2ms/step - loss: 0.3798 - binary_accuracy: 0.8344\n",
      "Epoch 131/250\n",
      "366/366 [==============================] - 1s 2ms/step - loss: 0.3829 - binary_accuracy: 0.8237\n",
      "Epoch 132/250\n",
      "366/366 [==============================] - 1s 2ms/step - loss: 0.3816 - binary_accuracy: 0.8286\n",
      "Epoch 133/250\n",
      "366/366 [==============================] - 1s 2ms/step - loss: 0.3816 - binary_accuracy: 0.8292\n",
      "Epoch 134/250\n",
      "366/366 [==============================] - 1s 2ms/step - loss: 0.3825 - binary_accuracy: 0.8265\n",
      "Epoch 135/250\n",
      "366/366 [==============================] - 1s 2ms/step - loss: 0.3801 - binary_accuracy: 0.8327\n",
      "Epoch 136/250\n",
      "366/366 [==============================] - 1s 2ms/step - loss: 0.3822 - binary_accuracy: 0.8289\n",
      "Epoch 137/250\n",
      "366/366 [==============================] - 1s 2ms/step - loss: 0.3796 - binary_accuracy: 0.8330\n",
      "Epoch 138/250\n",
      "366/366 [==============================] - 1s 2ms/step - loss: 0.3819 - binary_accuracy: 0.8295\n",
      "Epoch 139/250\n",
      "366/366 [==============================] - 1s 2ms/step - loss: 0.3805 - binary_accuracy: 0.8286\n",
      "Epoch 140/250\n",
      "366/366 [==============================] - 1s 2ms/step - loss: 0.3826 - binary_accuracy: 0.8251\n",
      "Epoch 141/250\n",
      "366/366 [==============================] - 1s 2ms/step - loss: 0.3810 - binary_accuracy: 0.8300\n",
      "Epoch 142/250\n",
      "366/366 [==============================] - 1s 2ms/step - loss: 0.3790 - binary_accuracy: 0.8297\n",
      "Epoch 143/250\n",
      "366/366 [==============================] - 1s 2ms/step - loss: 0.3827 - binary_accuracy: 0.8273\n",
      "Epoch 144/250\n",
      "366/366 [==============================] - 1s 2ms/step - loss: 0.3813 - binary_accuracy: 0.8311\n",
      "Epoch 145/250\n",
      "366/366 [==============================] - 1s 2ms/step - loss: 0.3802 - binary_accuracy: 0.8295\n",
      "Epoch 146/250\n",
      "366/366 [==============================] - 1s 2ms/step - loss: 0.3807 - binary_accuracy: 0.8267\n",
      "Epoch 147/250\n",
      "366/366 [==============================] - 1s 2ms/step - loss: 0.3821 - binary_accuracy: 0.8251\n",
      "Epoch 148/250\n",
      "366/366 [==============================] - 1s 2ms/step - loss: 0.3796 - binary_accuracy: 0.8289\n",
      "Epoch 149/250\n",
      "366/366 [==============================] - 1s 2ms/step - loss: 0.3803 - binary_accuracy: 0.8295\n",
      "Epoch 150/250\n",
      "366/366 [==============================] - 1s 2ms/step - loss: 0.3803 - binary_accuracy: 0.8284\n",
      "Epoch 151/250\n",
      "366/366 [==============================] - 1s 2ms/step - loss: 0.3806 - binary_accuracy: 0.8278\n",
      "Epoch 152/250\n",
      "366/366 [==============================] - 1s 2ms/step - loss: 0.3800 - binary_accuracy: 0.8270\n",
      "Epoch 153/250\n",
      "366/366 [==============================] - 1s 2ms/step - loss: 0.3808 - binary_accuracy: 0.8300\n",
      "Epoch 154/250\n",
      "366/366 [==============================] - 1s 2ms/step - loss: 0.3804 - binary_accuracy: 0.8273\n",
      "Epoch 155/250\n",
      "366/366 [==============================] - 1s 2ms/step - loss: 0.3800 - binary_accuracy: 0.8344\n",
      "Epoch 156/250\n",
      "366/366 [==============================] - 1s 2ms/step - loss: 0.3816 - binary_accuracy: 0.8254\n",
      "Epoch 157/250\n",
      "366/366 [==============================] - 1s 2ms/step - loss: 0.3807 - binary_accuracy: 0.8275\n",
      "Epoch 158/250\n",
      "366/366 [==============================] - 1s 2ms/step - loss: 0.3797 - binary_accuracy: 0.8284\n",
      "Epoch 159/250\n",
      "366/366 [==============================] - 1s 2ms/step - loss: 0.3814 - binary_accuracy: 0.8275\n",
      "Epoch 160/250\n",
      "366/366 [==============================] - 1s 2ms/step - loss: 0.3808 - binary_accuracy: 0.8281\n",
      "Epoch 161/250\n",
      "366/366 [==============================] - 1s 2ms/step - loss: 0.3799 - binary_accuracy: 0.8270\n",
      "Epoch 162/250\n",
      "366/366 [==============================] - 1s 2ms/step - loss: 0.3791 - binary_accuracy: 0.8289\n",
      "Epoch 163/250\n",
      "366/366 [==============================] - 1s 2ms/step - loss: 0.3800 - binary_accuracy: 0.8273\n",
      "Epoch 164/250\n",
      "366/366 [==============================] - 1s 2ms/step - loss: 0.3791 - binary_accuracy: 0.8275\n",
      "Epoch 165/250\n",
      "366/366 [==============================] - 1s 2ms/step - loss: 0.3798 - binary_accuracy: 0.8265\n",
      "Epoch 166/250\n",
      "366/366 [==============================] - 1s 2ms/step - loss: 0.3790 - binary_accuracy: 0.8314\n",
      "Epoch 167/250\n",
      "366/366 [==============================] - 1s 2ms/step - loss: 0.3784 - binary_accuracy: 0.8297\n",
      "Epoch 168/250\n",
      "366/366 [==============================] - 1s 2ms/step - loss: 0.3799 - binary_accuracy: 0.8303\n",
      "Epoch 169/250\n",
      "366/366 [==============================] - 1s 2ms/step - loss: 0.3791 - binary_accuracy: 0.8289\n",
      "Epoch 170/250\n",
      "366/366 [==============================] - 1s 2ms/step - loss: 0.3806 - binary_accuracy: 0.8289\n",
      "Epoch 171/250\n",
      "366/366 [==============================] - 1s 2ms/step - loss: 0.3796 - binary_accuracy: 0.8303\n",
      "Epoch 172/250\n",
      "366/366 [==============================] - 1s 2ms/step - loss: 0.3799 - binary_accuracy: 0.8284\n",
      "Epoch 173/250\n",
      "366/366 [==============================] - 1s 2ms/step - loss: 0.3786 - binary_accuracy: 0.8278\n",
      "Epoch 174/250\n",
      "366/366 [==============================] - 1s 2ms/step - loss: 0.3801 - binary_accuracy: 0.8259\n",
      "Epoch 175/250\n",
      "366/366 [==============================] - 1s 2ms/step - loss: 0.3794 - binary_accuracy: 0.8308\n",
      "Epoch 176/250\n",
      "366/366 [==============================] - 1s 2ms/step - loss: 0.3789 - binary_accuracy: 0.8295\n",
      "Epoch 177/250\n",
      "366/366 [==============================] - 1s 2ms/step - loss: 0.3802 - binary_accuracy: 0.8267\n",
      "Epoch 178/250\n",
      "366/366 [==============================] - 1s 2ms/step - loss: 0.3798 - binary_accuracy: 0.8289\n",
      "Epoch 179/250\n",
      "366/366 [==============================] - 1s 2ms/step - loss: 0.3784 - binary_accuracy: 0.8270\n",
      "Epoch 180/250\n",
      "366/366 [==============================] - 1s 2ms/step - loss: 0.3786 - binary_accuracy: 0.8289\n",
      "Epoch 181/250\n",
      "366/366 [==============================] - 1s 2ms/step - loss: 0.3791 - binary_accuracy: 0.8289\n",
      "Epoch 182/250\n",
      "366/366 [==============================] - 1s 2ms/step - loss: 0.3790 - binary_accuracy: 0.8306\n",
      "Epoch 183/250\n",
      "366/366 [==============================] - 1s 2ms/step - loss: 0.3797 - binary_accuracy: 0.8259\n",
      "Epoch 184/250\n",
      "366/366 [==============================] - 1s 2ms/step - loss: 0.3787 - binary_accuracy: 0.8256\n",
      "Epoch 185/250\n",
      "366/366 [==============================] - 1s 2ms/step - loss: 0.3782 - binary_accuracy: 0.8295\n",
      "Epoch 186/250\n",
      "366/366 [==============================] - 1s 2ms/step - loss: 0.3782 - binary_accuracy: 0.8289\n",
      "Epoch 187/250\n",
      "366/366 [==============================] - 1s 2ms/step - loss: 0.3792 - binary_accuracy: 0.8319\n",
      "Epoch 188/250\n",
      "366/366 [==============================] - 1s 2ms/step - loss: 0.3783 - binary_accuracy: 0.8270\n",
      "Epoch 189/250\n",
      "366/366 [==============================] - 1s 2ms/step - loss: 0.3795 - binary_accuracy: 0.8275\n",
      "Epoch 190/250\n",
      "366/366 [==============================] - 1s 2ms/step - loss: 0.3797 - binary_accuracy: 0.8251\n",
      "Epoch 191/250\n",
      "366/366 [==============================] - 1s 2ms/step - loss: 0.3786 - binary_accuracy: 0.8273\n",
      "Epoch 192/250\n",
      "366/366 [==============================] - 1s 2ms/step - loss: 0.3794 - binary_accuracy: 0.8278\n",
      "Epoch 193/250\n",
      "366/366 [==============================] - 1s 2ms/step - loss: 0.3780 - binary_accuracy: 0.8254\n",
      "Epoch 194/250\n",
      "366/366 [==============================] - 1s 2ms/step - loss: 0.3796 - binary_accuracy: 0.8262\n",
      "Epoch 195/250\n",
      "366/366 [==============================] - 1s 2ms/step - loss: 0.3782 - binary_accuracy: 0.8256\n",
      "Epoch 196/250\n",
      "366/366 [==============================] - 1s 2ms/step - loss: 0.3786 - binary_accuracy: 0.8300\n",
      "Epoch 197/250\n",
      "366/366 [==============================] - 1s 2ms/step - loss: 0.3786 - binary_accuracy: 0.8303\n",
      "Epoch 198/250\n",
      "366/366 [==============================] - 1s 2ms/step - loss: 0.3793 - binary_accuracy: 0.8273\n",
      "Epoch 199/250\n",
      "366/366 [==============================] - 1s 2ms/step - loss: 0.3784 - binary_accuracy: 0.8300\n",
      "Epoch 200/250\n",
      "366/366 [==============================] - 1s 2ms/step - loss: 0.3777 - binary_accuracy: 0.8284\n",
      "Epoch 201/250\n",
      "366/366 [==============================] - 1s 2ms/step - loss: 0.3800 - binary_accuracy: 0.8286\n",
      "Epoch 202/250\n",
      "366/366 [==============================] - 1s 2ms/step - loss: 0.3783 - binary_accuracy: 0.8319\n",
      "Epoch 203/250\n",
      "366/366 [==============================] - 1s 2ms/step - loss: 0.3785 - binary_accuracy: 0.8316\n",
      "Epoch 204/250\n",
      "366/366 [==============================] - 1s 2ms/step - loss: 0.3784 - binary_accuracy: 0.8273\n",
      "Epoch 205/250\n",
      "366/366 [==============================] - 1s 2ms/step - loss: 0.3782 - binary_accuracy: 0.8306\n",
      "Epoch 206/250\n",
      "366/366 [==============================] - 1s 2ms/step - loss: 0.3784 - binary_accuracy: 0.8311\n",
      "Epoch 207/250\n",
      "366/366 [==============================] - 1s 2ms/step - loss: 0.3781 - binary_accuracy: 0.8259\n",
      "Epoch 208/250\n",
      "366/366 [==============================] - 1s 2ms/step - loss: 0.3786 - binary_accuracy: 0.8303\n",
      "Epoch 209/250\n",
      "366/366 [==============================] - 1s 2ms/step - loss: 0.3793 - binary_accuracy: 0.8297\n",
      "Epoch 210/250\n",
      "366/366 [==============================] - 1s 2ms/step - loss: 0.3788 - binary_accuracy: 0.8278\n",
      "Epoch 211/250\n",
      "366/366 [==============================] - 1s 2ms/step - loss: 0.3784 - binary_accuracy: 0.8286\n",
      "Epoch 212/250\n",
      "366/366 [==============================] - 1s 2ms/step - loss: 0.3771 - binary_accuracy: 0.8265\n",
      "Epoch 213/250\n",
      "366/366 [==============================] - 1s 2ms/step - loss: 0.3780 - binary_accuracy: 0.8275\n",
      "Epoch 214/250\n",
      "366/366 [==============================] - 1s 2ms/step - loss: 0.3779 - binary_accuracy: 0.8327\n",
      "Epoch 215/250\n",
      "366/366 [==============================] - 1s 2ms/step - loss: 0.3787 - binary_accuracy: 0.8284\n",
      "Epoch 216/250\n",
      "366/366 [==============================] - 1s 2ms/step - loss: 0.3780 - binary_accuracy: 0.8314\n",
      "Epoch 217/250\n",
      "366/366 [==============================] - 1s 2ms/step - loss: 0.3791 - binary_accuracy: 0.8336\n",
      "Epoch 218/250\n",
      "366/366 [==============================] - 1s 2ms/step - loss: 0.3783 - binary_accuracy: 0.8259\n",
      "Epoch 219/250\n",
      "366/366 [==============================] - 1s 2ms/step - loss: 0.3786 - binary_accuracy: 0.8245\n",
      "Epoch 220/250\n",
      "366/366 [==============================] - 1s 2ms/step - loss: 0.3777 - binary_accuracy: 0.8278\n",
      "Epoch 221/250\n",
      "366/366 [==============================] - 1s 2ms/step - loss: 0.3806 - binary_accuracy: 0.8295\n",
      "Epoch 222/250\n",
      "366/366 [==============================] - 1s 2ms/step - loss: 0.3782 - binary_accuracy: 0.8322\n",
      "Epoch 223/250\n",
      "366/366 [==============================] - 1s 2ms/step - loss: 0.3780 - binary_accuracy: 0.8267\n",
      "Epoch 224/250\n",
      "366/366 [==============================] - 1s 2ms/step - loss: 0.3797 - binary_accuracy: 0.8240\n",
      "Epoch 225/250\n",
      "366/366 [==============================] - 1s 2ms/step - loss: 0.3776 - binary_accuracy: 0.8289\n",
      "Epoch 226/250\n",
      "366/366 [==============================] - 1s 2ms/step - loss: 0.3778 - binary_accuracy: 0.8289\n",
      "Epoch 227/250\n",
      "366/366 [==============================] - 1s 2ms/step - loss: 0.3773 - binary_accuracy: 0.8292\n",
      "Epoch 228/250\n",
      "366/366 [==============================] - 1s 2ms/step - loss: 0.3778 - binary_accuracy: 0.8267\n",
      "Epoch 229/250\n",
      "366/366 [==============================] - 1s 2ms/step - loss: 0.3794 - binary_accuracy: 0.8275\n",
      "Epoch 230/250\n",
      "366/366 [==============================] - 1s 2ms/step - loss: 0.3773 - binary_accuracy: 0.8314\n",
      "Epoch 231/250\n",
      "366/366 [==============================] - 1s 2ms/step - loss: 0.3794 - binary_accuracy: 0.8248\n",
      "Epoch 232/250\n",
      "366/366 [==============================] - 1s 2ms/step - loss: 0.3778 - binary_accuracy: 0.8278\n",
      "Epoch 233/250\n",
      "366/366 [==============================] - 1s 2ms/step - loss: 0.3775 - binary_accuracy: 0.8275\n",
      "Epoch 234/250\n",
      "366/366 [==============================] - 1s 2ms/step - loss: 0.3800 - binary_accuracy: 0.8251\n",
      "Epoch 235/250\n",
      "366/366 [==============================] - 1s 2ms/step - loss: 0.3776 - binary_accuracy: 0.8278\n",
      "Epoch 236/250\n",
      "366/366 [==============================] - 1s 2ms/step - loss: 0.3780 - binary_accuracy: 0.8273\n",
      "Epoch 237/250\n",
      "366/366 [==============================] - 1s 2ms/step - loss: 0.3776 - binary_accuracy: 0.8254\n",
      "Epoch 238/250\n",
      "366/366 [==============================] - 1s 2ms/step - loss: 0.3780 - binary_accuracy: 0.8270\n",
      "Epoch 239/250\n",
      "366/366 [==============================] - 1s 2ms/step - loss: 0.3783 - binary_accuracy: 0.8303\n",
      "Epoch 240/250\n",
      "366/366 [==============================] - 1s 2ms/step - loss: 0.3775 - binary_accuracy: 0.8297\n",
      "Epoch 241/250\n",
      "366/366 [==============================] - 1s 2ms/step - loss: 0.3778 - binary_accuracy: 0.8248\n",
      "Epoch 242/250\n",
      "366/366 [==============================] - 1s 2ms/step - loss: 0.3757 - binary_accuracy: 0.8273\n",
      "Epoch 243/250\n",
      "366/366 [==============================] - 1s 2ms/step - loss: 0.3767 - binary_accuracy: 0.8300\n",
      "Epoch 244/250\n",
      "366/366 [==============================] - 1s 2ms/step - loss: 0.3786 - binary_accuracy: 0.8251\n",
      "Epoch 245/250\n",
      "366/366 [==============================] - 1s 2ms/step - loss: 0.3767 - binary_accuracy: 0.8308\n",
      "Epoch 246/250\n",
      "366/366 [==============================] - 1s 2ms/step - loss: 0.3774 - binary_accuracy: 0.8327\n",
      "Epoch 247/250\n",
      "366/366 [==============================] - 1s 2ms/step - loss: 0.3764 - binary_accuracy: 0.8292\n",
      "Epoch 248/250\n",
      "366/366 [==============================] - 1s 2ms/step - loss: 0.3772 - binary_accuracy: 0.8314\n",
      "Epoch 249/250\n",
      "366/366 [==============================] - 1s 2ms/step - loss: 0.3779 - binary_accuracy: 0.8275\n",
      "Epoch 250/250\n",
      "366/366 [==============================] - 1s 2ms/step - loss: 0.3772 - binary_accuracy: 0.8308\n",
      "CPU times: user 2min 56s, sys: 10.6 s, total: 3min 7s\n",
      "Wall time: 3min 22s\n"
     ]
    },
    {
     "data": {
      "text/plain": [
       "<keras.callbacks.History at 0x7f7cdd20c950>"
      ]
     },
     "execution_count": 121,
     "metadata": {},
     "output_type": "execute_result"
    }
   ],
   "source": [
    "%%time\n",
    "classificador1.fit(X_train,y_train, batch_size = 10, epochs = 250)"
   ]
  },
  {
   "cell_type": "code",
   "execution_count": null,
   "metadata": {
    "colab": {
     "base_uri": "https://localhost:8080/"
    },
    "id": "_jbQ_9lTRAjG",
    "outputId": "fe83d0c2-b9d8-4931-9064-46660d142b04"
   },
   "outputs": [
    {
     "name": "stdout",
     "output_type": "stream",
     "text": [
      "[array([[-3.42598826e-01,  1.05805723e-02,  1.46869302e-01,\n",
      "         2.17400745e-01, -2.05206752e-01,  3.94873351e-01,\n",
      "         5.97377196e-02, -1.87381655e-01,  1.06920585e-01,\n",
      "         2.81538665e-01,  1.66130275e-01,  1.40596762e-01,\n",
      "        -3.41018051e-01,  5.72423227e-02,  6.95656165e-02,\n",
      "         1.57576799e-01],\n",
      "       [ 4.84301969e-02,  7.18728602e-01,  4.39352822e-03,\n",
      "         3.75458956e-01, -1.11324646e-01, -2.08039954e-01,\n",
      "         1.40729286e-02, -6.51616976e-02, -2.18655150e-02,\n",
      "        -1.10560402e-01,  1.43756901e-04,  4.86796424e-02,\n",
      "         4.89318036e-02,  4.80655255e-03, -1.88068803e-02,\n",
      "        -2.33563751e-01],\n",
      "       [-1.05487462e-02,  1.79537013e-02,  8.86902511e-02,\n",
      "         5.37352031e-03, -5.71348704e-02, -1.45702168e-01,\n",
      "        -7.55089819e-02, -3.35355662e-02,  3.54298539e-02,\n",
      "        -8.16168189e-02,  8.95851403e-02, -1.19046941e-01,\n",
      "         1.00940429e-01, -1.48999006e-01,  5.24334684e-02,\n",
      "        -1.54007673e-01],\n",
      "       [-1.05169766e-01, -3.05388689e-01,  2.04566404e-01,\n",
      "         5.12024015e-02, -2.11624056e-01,  1.28095761e-01,\n",
      "         1.91611871e-01, -1.83602408e-01,  1.89981520e-01,\n",
      "         2.01823711e-01,  1.23516388e-01,  1.56851232e-01,\n",
      "        -2.67008930e-01,  3.43984306e-01,  3.81735042e-02,\n",
      "        -2.08446488e-01],\n",
      "       [-1.45611569e-01, -4.23012733e-01,  2.35060286e-02,\n",
      "        -1.13327868e-01, -7.02662533e-03,  2.82593399e-01,\n",
      "         8.33191425e-02, -1.62254721e-02,  2.70226076e-02,\n",
      "         2.53555089e-01,  4.30375338e-02,  4.75215912e-02,\n",
      "        -1.65095150e-01,  1.97561502e-01,  3.08193881e-02,\n",
      "        -1.36461314e-02],\n",
      "       [-1.04766175e-01, -2.38872275e-01,  9.55775678e-02,\n",
      "         1.89849585e-02, -8.92885774e-02,  1.20710053e-01,\n",
      "         1.48538724e-01, -9.89323705e-02,  1.23793408e-01,\n",
      "         1.80468038e-01,  4.22959626e-02,  1.05925582e-01,\n",
      "        -1.29363954e-01,  2.40710825e-01,  1.78729370e-02,\n",
      "        -1.66785628e-01],\n",
      "       [ 1.13347664e-01, -2.71569401e-01, -1.09513171e-01,\n",
      "        -5.52879274e-01,  2.51752079e-01,  2.91394629e-02,\n",
      "        -9.82817784e-02,  2.46587202e-01, -7.57828504e-02,\n",
      "         3.84247266e-02, -1.04462616e-01, -4.79456894e-02,\n",
      "         1.84492916e-01,  1.29646868e-01,  1.08588319e-02,\n",
      "         8.45543146e-01],\n",
      "       [-8.16661716e-02, -2.55765498e-01,  1.57345578e-01,\n",
      "         7.38186687e-02, -1.07601576e-01,  7.40429610e-02,\n",
      "         2.83337891e-01, -1.37984574e-01,  2.31052339e-01,\n",
      "         1.20785974e-01,  1.95787326e-01,  2.03128397e-01,\n",
      "        -1.80983424e-01,  3.47769290e-01,  2.75573153e-02,\n",
      "        -2.28910610e-01],\n",
      "       [-1.02498405e-01, -4.19181734e-01,  6.89822584e-02,\n",
      "         3.44623685e-01,  7.74259958e-03, -3.26572428e-03,\n",
      "         4.14202586e-02, -2.15047505e-02,  5.62028252e-02,\n",
      "         6.82487637e-02,  1.26832470e-01,  7.82558993e-02,\n",
      "        -1.22363105e-01, -1.26196370e-01,  3.64803337e-02,\n",
      "         3.07490733e-02],\n",
      "       [ 2.35915005e-01, -1.04695015e-01, -1.52467683e-01,\n",
      "        -6.80922627e-01,  2.34452277e-01, -2.48096231e-03,\n",
      "        -1.70003891e-01,  2.37650767e-01, -1.58786267e-01,\n",
      "        -3.89402509e-01, -1.07658781e-01, -1.12989768e-01,\n",
      "         3.70929837e-01,  4.96695749e-02, -6.78920373e-02,\n",
      "         5.99180698e-01]], dtype=float32), array([ 0.11664246, -0.15931846, -0.09031333, -0.35227263,  0.11632516,\n",
      "       -0.09083613, -0.12063619,  0.11381387, -0.03365272,  0.03069548,\n",
      "       -0.07231389, -0.08750211,  0.20598073,  0.01844487, -0.00198774,\n",
      "        0.04822763], dtype=float32)]\n",
      "2\n"
     ]
    }
   ],
   "source": [
    "pesos0 = classificador1.layers[0].get_weights()\n",
    "print(pesos0)\n",
    "print(len(pesos0))\n",
    "pesos1 = classificador1.layers[1].get_weights()\n",
    "pesos2 = classificador1.layers[2].get_weights()\n"
   ]
  },
  {
   "cell_type": "code",
   "execution_count": null,
   "metadata": {
    "colab": {
     "base_uri": "https://localhost:8080/"
    },
    "id": "2GdTu6pTRoAe",
    "outputId": "a646eccf-f0e6-40b9-ffa5-7acf637f70a3"
   },
   "outputs": [
    {
     "name": "stdout",
     "output_type": "stream",
     "text": [
      "Nova Acuracia: 0.8262\n",
      "Nova precisão: 0.8341\n",
      "Nova recall: 0.8140\n",
      "Nova F1 Score: 0.8239\n",
      "\n",
      "\n",
      "[[384  74]\n",
      " [ 85 372]]\n"
     ]
    }
   ],
   "source": [
    "previsoes1 = classificador1.predict(X_test)\n",
    "previsoes1 = (previsoes1 > 0.36)\n",
    "from sklearn.metrics import confusion_matrix, accuracy_score, precision_score, recall_score, f1_score\n",
    "Acuracia = accuracy_score(y_test, previsoes1)\n",
    "matriz = confusion_matrix(y_test, previsoes1)\n",
    "precision_score = precision_score(y_test, previsoes1)\n",
    "recall = recall_score(y_test, previsoes1)\n",
    "f1 = f1_score(y_test, previsoes1)\n",
    "\n",
    "print('Nova Acuracia: {:.4f}'.format(Acuracia))\n",
    "print('Nova precisão: {:.4f}'.format(precision_score))\n",
    "print('Nova recall: {:.4f}'.format(recall))\n",
    "print('Nova F1 Score: {:.4f}'.format(f1))\n",
    "print('\\n')\n",
    "print(matriz)\n"
   ]
  },
  {
   "cell_type": "code",
   "execution_count": null,
   "metadata": {
    "colab": {
     "base_uri": "https://localhost:8080/"
    },
    "id": "7eJOwGN-RyuD",
    "outputId": "3b999b39-dd2a-401b-fcee-2298ee78a9f9"
   },
   "outputs": [
    {
     "name": "stdout",
     "output_type": "stream",
     "text": [
      "29/29 [==============================] - 0s 1ms/step - loss: 0.3784 - binary_accuracy: 0.8350\n"
     ]
    },
    {
     "data": {
      "text/plain": [
       "[0.3783707618713379, 0.8349726796150208]"
      ]
     },
     "execution_count": 136,
     "metadata": {},
     "output_type": "execute_result"
    }
   ],
   "source": [
    "resultado1 = classificador1.evaluate(X_test, y_test)\n",
    "resultado1"
   ]
  },
  {
   "cell_type": "code",
   "execution_count": null,
   "metadata": {
    "id": "aI_zTtaLSG7R"
   },
   "outputs": [],
   "source": [
    "sub = classificador1.predict(df2)\n"
   ]
  },
  {
   "cell_type": "code",
   "execution_count": null,
   "metadata": {
    "id": "8Py45-H7kCTr"
   },
   "outputs": [],
   "source": [
    "submission['aprovado_vaga'] = pd.DataFrame(sub)"
   ]
  },
  {
   "cell_type": "code",
   "execution_count": null,
   "metadata": {
    "colab": {
     "base_uri": "https://localhost:8080/"
    },
    "id": "kPEj5EcSkHYA",
    "outputId": "27c559f6-879f-4844-95aa-e3bd903a0052"
   },
   "outputs": [
    {
     "data": {
      "text/plain": [
       "1.000000    23025\n",
       "0.099474      607\n",
       "0.036465      282\n",
       "0.038940      276\n",
       "0.058834      245\n",
       "            ...  \n",
       "0.995530        1\n",
       "0.995628        1\n",
       "0.921639        1\n",
       "0.163008        1\n",
       "0.896885        1\n",
       "Name: aprovado_vaga, Length: 484, dtype: int64"
      ]
     },
     "execution_count": 155,
     "metadata": {},
     "output_type": "execute_result"
    }
   ],
   "source": [
    "submission['aprovado_vaga'].value_counts()"
   ]
  },
  {
   "cell_type": "code",
   "execution_count": null,
   "metadata": {
    "id": "QvmbEIswlz-r"
   },
   "outputs": [],
   "source": [
    "def classificacao(s):\n",
    "  if s >= 0.5:\n",
    "    return 'aprovado'\n",
    "  elif s < 0.5:\n",
    "    return 'não aprovado'\n"
   ]
  },
  {
   "cell_type": "code",
   "execution_count": null,
   "metadata": {
    "colab": {
     "base_uri": "https://localhost:8080/"
    },
    "id": "f6wzW2dLnnkn",
    "outputId": "35a8921f-1170-450d-cc87-313a87cb30ab"
   },
   "outputs": [
    {
     "data": {
      "text/plain": [
       "aprovado        24335\n",
       "não aprovado     1799\n",
       "Name: classificação, dtype: int64"
      ]
     },
     "execution_count": 158,
     "metadata": {},
     "output_type": "execute_result"
    }
   ],
   "source": [
    "submission['classificação'] = submission['aprovado_vaga'].apply(classificacao)\n",
    "submission['classificação'].value_counts()"
   ]
  },
  {
   "cell_type": "code",
   "execution_count": null,
   "metadata": {
    "id": "Fbjpm-djnz0B"
   },
   "outputs": [],
   "source": []
  }
 ],
 "metadata": {
  "colab": {
   "name": "Deep Learning_classificação.ipynb",
   "provenance": []
  },
  "kernelspec": {
   "display_name": "Python 3",
   "language": "python",
   "name": "python3"
  },
  "language_info": {
   "codemirror_mode": {
    "name": "ipython",
    "version": 3
   },
   "file_extension": ".py",
   "mimetype": "text/x-python",
   "name": "python",
   "nbconvert_exporter": "python",
   "pygments_lexer": "ipython3",
   "version": "3.8.8"
  }
 },
 "nbformat": 4,
 "nbformat_minor": 1
}
