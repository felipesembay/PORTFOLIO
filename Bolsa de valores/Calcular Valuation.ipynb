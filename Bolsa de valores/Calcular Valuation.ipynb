{
 "cells": [
  {
   "cell_type": "markdown",
   "id": "6b23688a",
   "metadata": {},
   "source": [
    "## Numpy Financial"
   ]
  },
  {
   "cell_type": "code",
   "execution_count": 43,
   "id": "c666aa7b",
   "metadata": {},
   "outputs": [],
   "source": [
    "import pandas as pd\n",
    "import numpy as np\n",
    "import numpy_financial as npf"
   ]
  },
  {
   "cell_type": "markdown",
   "id": "11b70d56",
   "metadata": {},
   "source": [
    "O **valor presente** nada mais é que o **valor de um montante do futuro** trazido para o **momento atual**. Então, ele serve basicamente para analisar o **valor** do dinheiro no tempo, considerando as variações que acontecem."
   ]
  },
  {
   "cell_type": "code",
   "execution_count": 87,
   "id": "b2d69cb9",
   "metadata": {},
   "outputs": [],
   "source": [
    "# Valor Presente \n",
    "\n",
    "vf = -1000000\n",
    "juros = 0.05\n",
    "pagamento = 0\n",
    "\n",
    "valor_presente = npf.pv(juros, 10, pmt=0, fv=vf)"
   ]
  },
  {
   "cell_type": "code",
   "execution_count": 88,
   "id": "72ced7ea",
   "metadata": {},
   "outputs": [
    {
     "data": {
      "text/plain": [
       "613913.2535407591"
      ]
     },
     "execution_count": 88,
     "metadata": {},
     "output_type": "execute_result"
    }
   ],
   "source": [
    "valor_presente"
   ]
  },
  {
   "cell_type": "code",
   "execution_count": 89,
   "id": "d1de41a8",
   "metadata": {},
   "outputs": [
    {
     "data": {
      "text/plain": [
       "488668.3880332326"
      ]
     },
     "execution_count": 89,
     "metadata": {},
     "output_type": "execute_result"
    }
   ],
   "source": [
    "#Valor Futuro\n",
    "\n",
    "valor_futuro = npf.fv(juros, 10, pmt=pagamento, pv=-300000)\n",
    "valor_futuro"
   ]
  },
  {
   "cell_type": "markdown",
   "id": "321b9907",
   "metadata": {},
   "source": [
    "Também chamado de **Valor Líquido Atual**, o **Valor Presente Líquido** é um método que consiste em trazer para a data zero todos os fluxos de caixa de um projeto de investimento e somá-los ao valor do investimento inicial, usando como taxa de desconto a Taxa Mínima de Atratividade (TMA) da empresa ou projeto.\n",
    "\n",
    "O **VPL** é um dos métodos mais conhecidos quando o assunto é análise da viabilidade de projetos de investimento.  Com o cálculo do Valor Presente Líquido é possível fazer os ajustes, descontando as taxas de juros para **obter a verdadeira noção do valor do dinheiro no futuro**.\n",
    "\n",
    "Por esse motivo, o VPL não faz apenas uma comparação do investimento com o retorno que dele se espera. Indo além disso, como o Valor Presente Líquido leva em consideração a valorização do capital ao longo do tempo, com ele calcula-se o ganho real de investimento.\n",
    "\n",
    "**Resumindo: O VPL traz ao valor presente um valor futuro. Ele representa a diferença entre os recebimentos e os pagamentos de um projeto de investimento em valores monetários atuais (de hoje).**"
   ]
  },
  {
   "cell_type": "code",
   "execution_count": 110,
   "id": "a4dd417c",
   "metadata": {},
   "outputs": [
    {
     "data": {
      "text/plain": [
       "80.14"
      ]
     },
     "execution_count": 110,
     "metadata": {},
     "output_type": "execute_result"
    }
   ],
   "source": [
    "fc = np.array([-380, 30, 50, 70, 90, 110, 130, 130, 130, 130])\n",
    "i = 0.12\n",
    "vpl_teste = npf.npv(i, fc)\n",
    "vpl_teste.round(2)"
   ]
  },
  {
   "cell_type": "markdown",
   "id": "c52ea688",
   "metadata": {},
   "source": [
    "## Interpretando os resultados\n",
    "\n",
    "Calculando a VPL e obtido o valor de 80.14, pela definição de VPL, significa que o projeto consegue recuperar o investimento inicial (380.00), remunera também aquilo que teria sido ganho se o capital para esse investimento ($380.00) tivesse sido aplicado na TMA (12.00 porcento a.a) e ainda sobram, em valores monetários de hoje 80.14 (excesso de caixa). \n",
    "\n",
    "**VPL > 0 indica que o Projeto merece continuar sendo analisado.**\n",
    "\n",
    "\n",
    "Exemplo Acima do Livro  **Decisões Financeiras e Análise de Investimento**."
   ]
  },
  {
   "cell_type": "code",
   "execution_count": 139,
   "id": "ee15213f",
   "metadata": {},
   "outputs": [
    {
     "data": {
      "text/plain": [
       "15.04"
      ]
     },
     "execution_count": 139,
     "metadata": {},
     "output_type": "execute_result"
    }
   ],
   "source": [
    "#VPL anualizado\n",
    "n = np.count_nonzero(fc) - 1\n",
    "\n",
    "eq1 = i*(1 + i)**n\n",
    "eq2 = ((1 + i)**n) - 1\n",
    "eq = eq1/eq2\n",
    "vpl_teste\n",
    "\n",
    "vpl_anualizado = vpl_teste * eq\n",
    "vpl_anualizado.round(2)"
   ]
  },
  {
   "cell_type": "markdown",
   "id": "929d0b91",
   "metadata": {},
   "source": [
    "Enquanto que no VPL todos os valores do fluxo de caixa são concentrados na data zero, no VPLa o fluxo de caixa representativo do projeto de investimento é transformado em uma série uniforme. \n",
    "\n",
    "**VPLa** ou VPL Anulizado **>0 indica que o Projeto merece continuar sendo analisado**. "
   ]
  },
  {
   "cell_type": "markdown",
   "id": "d200242f",
   "metadata": {},
   "source": [
    "## IBC - Indice Beneficio/Custo\n",
    "\n",
    "O IBC é uma medida de quanto se espera ganhar por unidade de capital investido. A hipótese implicita no cálculo do IBC é que os recursos liberados ao longo da vida util do projeto sejam reinvestidos à taxa minima atratividade (TMA). \n",
    "\n",
    "Genericamente, o IBC nada mais é do que uma razão entre o Fluxo Esperado de Beneficios de um projeto e o Fluxo Esperado de Investimentos necessários para realizá-lo. Assim, o IBC pode ser calculado pela fórmula: \n",
    "\n",
    "\n",
    "$ \n",
    "IBC = \\frac{\\text{Valor Presente do Fluxo de Beneficios}}{\\text{Valor Presente do Fluxo de Investimentos}}$"
   ]
  },
  {
   "cell_type": "code",
   "execution_count": 145,
   "id": "484041f7",
   "metadata": {},
   "outputs": [
    {
     "data": {
      "text/plain": [
       "1.2108820350722522"
      ]
     },
     "execution_count": 145,
     "metadata": {},
     "output_type": "execute_result"
    }
   ],
   "source": [
    "IBC = (-fc[0]+vpl_teste)/-fc[0]\n",
    "IBC"
   ]
  },
  {
   "cell_type": "markdown",
   "id": "c0c0f8e9",
   "metadata": {},
   "source": [
    "O valor de IBC igual a 1,21 significa para que, cada 1 unidade monetária imobilizado no projeto, espera-se retirar, após o horizonte de planejamento do projeto(no caso do exemplo são nove anos), 1,21 após expurgado o ganho que se teria, caso esse 1 tivesse sido aplicado na TMA. Pode se raciocinar em termos de uma rentabilidade real esperada de 21,01% em nove anos. Note-se que essa taxa não permite comparação imediata com a TMA(12% a.a) porquanto a mesma se refere a um período de nove anos. Uma alternativa é encontrar a taxa equivalente para o mesmo período da TMA. Essa alternativa apresentará a rentabilidade esperada do projeto para o mesmo período da TMA e será denominada ROIA (Retorno Adicional sobre o Investimento). \n",
    "\n",
    "**IBC > 1 indica que o Projeto merece continuar sendo analisado**. "
   ]
  },
  {
   "cell_type": "markdown",
   "id": "bfeeb277",
   "metadata": {},
   "source": [
    "## ROIA\n",
    "\n",
    "O ROIA é a melhor estimativa de rentabilidade para um projeto de investimento. Representa, em termos percentuais, a riqueza gerada pelo projeto. Assim, o ROIA, é o analogo percentual do conceito de Valor Economico Agregado (EVA)."
   ]
  },
  {
   "cell_type": "code",
   "execution_count": 152,
   "id": "e075fcde",
   "metadata": {},
   "outputs": [
    {
     "data": {
      "text/plain": [
       "2.15"
      ]
     },
     "execution_count": 152,
     "metadata": {},
     "output_type": "execute_result"
    }
   ],
   "source": [
    "ROIA = npf.rate(n, 0, -1, IBC).round(4)\n",
    "ROIA*100"
   ]
  },
  {
   "cell_type": "markdown",
   "id": "279fa950",
   "metadata": {},
   "source": [
    "O projeto em específico apresenta um ROI de 2,15% ao ano além da TMA(12%a.a). Essa informação é a melhor estimativa de rentabilidade do projeto de investimento. É importante considerar que o capital disponivel para o investimento já teria por denificação, uma aplicação de baixo risco com retorno de 12% ao ano. A decisão agora se resume em discutir se vale a pena investir no projeto (assumir o risco do investimento) para se ter um adicional de ganho da ordem de ganho de 2,15% ao ano. "
   ]
  },
  {
   "cell_type": "markdown",
   "id": "973439fa",
   "metadata": {},
   "source": [
    "## TIR"
   ]
  },
  {
   "cell_type": "code",
   "execution_count": 171,
   "id": "29c26e31",
   "metadata": {},
   "outputs": [
    {
     "data": {
      "text/plain": [
       "0.1618652950710049"
      ]
     },
     "execution_count": 171,
     "metadata": {},
     "output_type": "execute_result"
    }
   ],
   "source": [
    "tir =  npf.irr(fc)\n",
    "tir"
   ]
  },
  {
   "cell_type": "markdown",
   "id": "6c0a1daf",
   "metadata": {},
   "source": [
    "Para o projeto em Análise, com TMA igual a 12% a.a e ROIA igual a 2,15% a.a, tem que se a seguinte relação:\n"
   ]
  },
  {
   "cell_type": "code",
   "execution_count": 191,
   "id": "537dc414",
   "metadata": {
    "scrolled": true
   },
   "outputs": [
    {
     "data": {
      "text/plain": [
       "0.14408"
      ]
     },
     "execution_count": 191,
     "metadata": {},
     "output_type": "execute_result"
    }
   ],
   "source": [
    "#Relação entre ROIA e Tma\n",
    "tma = (1+i)*(1+ROIA)-1\n",
    "tma.round(5)"
   ]
  },
  {
   "cell_type": "code",
   "execution_count": 192,
   "id": "02017991",
   "metadata": {},
   "outputs": [
    {
     "name": "stdout",
     "output_type": "stream",
     "text": [
      "Indica que há mais ganhos investindo no Projeto do que na TMA\n"
     ]
    }
   ],
   "source": [
    "if tma < tir:\n",
    "    print(\"Indica que há mais ganhos investindo no Projeto do que na TMA\")\n",
    "else:\n",
    "    print(\"Indica que NÃO há mais ganhos investindo no Projeto do que na TMA\")"
   ]
  },
  {
   "cell_type": "code",
   "execution_count": 194,
   "id": "d49269d7",
   "metadata": {},
   "outputs": [
    {
     "data": {
      "text/plain": [
       "1466.17"
      ]
     },
     "execution_count": 194,
     "metadata": {},
     "output_type": "execute_result"
    }
   ],
   "source": [
    "#fcr - Fluxo de Caixa Resultante dos Reinvestimentos\n",
    "fcr = npf.fv(tir,nper=9,pmt=0, pv=fc)\n",
    "fcr[0].round(2)"
   ]
  },
  {
   "cell_type": "code",
   "execution_count": 193,
   "id": "59d021cc",
   "metadata": {},
   "outputs": [
    {
     "data": {
      "text/plain": [
       "1276.12"
      ]
     },
     "execution_count": 193,
     "metadata": {},
     "output_type": "execute_result"
    }
   ],
   "source": [
    "#fcr - Com a TMA\n",
    "fcr = npf.fv(tma,nper=9,pmt=0, pv=fc)\n",
    "fcr[0].round(2)"
   ]
  },
  {
   "cell_type": "markdown",
   "id": "32e9efb5",
   "metadata": {},
   "source": [
    "Por definição, a melhor alternativa de aplicação para os recursos liberados pelo projeto é a TMA (taca de aplicação com baixo grau de risco). Então a TIR somente poderá ser considerada como representativa da rentabilidade do projeto se houver uma coincidência de valores entre as taxas, isto é, TIR igual a TMA. \n",
    "\n",
    "Verifica-se que os recursos liberados pelo projeto forem aplicados à TMA, então o retorno sobre o capital investido será de 14.41% a.a. \n",
    "\n",
    "Resta agora, interpretar o significado desse valor. Defniniu-se, anteriormente o ROIA (2.15% a.a) como melhor estimativa de rentabilidade para o projeto em análise, após expurgado o efeito da TMA. Ora, sendo a TMA igual a 12% a.a e expurgando-se o efeito retorno 14,408% a.a chega-se a:"
   ]
  },
  {
   "cell_type": "code",
   "execution_count": 196,
   "id": "5cb35709",
   "metadata": {},
   "outputs": [
    {
     "data": {
      "text/plain": [
       "0.021500000000000075"
      ]
     },
     "execution_count": 196,
     "metadata": {},
     "output_type": "execute_result"
    }
   ],
   "source": [
    "#ROIA\n",
    "ROIA_1 = (1+tma) / (1 + i) - 1\n",
    "\n",
    "ROIA_1"
   ]
  },
  {
   "cell_type": "markdown",
   "id": "d60e8910",
   "metadata": {},
   "source": [
    "Ou seja, o retorno de 14.408% a.a é o mesmo que o ROIA(2.15% a.a), porém com efeito cruzado da TMA. Dessa forma, a TIR, na melhor das hipóteses, pode ser interpretada como um limite superior para a estimativa de rentabilidade do projeto. "
   ]
  },
  {
   "cell_type": "markdown",
   "id": "92e01b33",
   "metadata": {},
   "source": [
    "## PAYBACK\n",
    "\n",
    "O Payback nada mais é do que número de períodos necessários para que o fluxo de beneficios supere o capital investido. "
   ]
  },
  {
   "cell_type": "code",
   "execution_count": null,
   "id": "fd1bd727",
   "metadata": {},
   "outputs": [],
   "source": []
  },
  {
   "cell_type": "code",
   "execution_count": 201,
   "id": "1ea40d45",
   "metadata": {},
   "outputs": [
    {
     "data": {
      "text/plain": [
       "0.1414285714285714"
      ]
     },
     "execution_count": 201,
     "metadata": {},
     "output_type": "execute_result"
    }
   ],
   "source": [
    "#Valor Presente Liquido\n",
    "\n",
    "ativo = 140000\n",
    "passivo_oneroso = 40000\n",
    "patrimonio_liquido = ativo - passivo_oneroso \n",
    "ki = 0.12 #Custo emprestimo\n",
    "ke = 0.15 #Custo capital proprio (custo de oportunidade ou tma)\n",
    "\n",
    "wacc = ((passivo_oneroso/ativo)*ki)+((patrimonio_liquido/ativo)*ke)\n",
    "wacc\n"
   ]
  },
  {
   "cell_type": "code",
   "execution_count": 202,
   "id": "e40b7eb0",
   "metadata": {},
   "outputs": [
    {
     "data": {
      "text/plain": [
       "22149.42074704751"
      ]
     },
     "execution_count": 202,
     "metadata": {},
     "output_type": "execute_result"
    }
   ],
   "source": [
    "cf1 = np.array([-10000, -5000, -6000, -8000, -3000, -13000, 5000, 8000, 10000, 9000, 12000, 12500, 14000, 17000, 20000, 14000, 11000, 19000, 22000, 25000, 32000, 19000, 35000, 42000, 44000, 34000, 39000, 49000, 44000, 41000, 34000, 37500, 40000, 56000, 58000, 65000])\n",
    "vpl = npf.npv(wacc, cf1)\n",
    "\n",
    "vpl"
   ]
  },
  {
   "cell_type": "code",
   "execution_count": 203,
   "id": "93259d63",
   "metadata": {},
   "outputs": [
    {
     "data": {
      "text/plain": [
       "0.18593820085976742"
      ]
     },
     "execution_count": 203,
     "metadata": {},
     "output_type": "execute_result"
    }
   ],
   "source": [
    "#TIR - TAXA INTERNA DE RETORNO\n",
    "\n",
    "tir = npf.irr(cf1)\n",
    "tir"
   ]
  },
  {
   "cell_type": "code",
   "execution_count": 204,
   "id": "d2915878",
   "metadata": {},
   "outputs": [],
   "source": [
    "# Valuation do negócio\n",
    "\n",
    "lucro_operacional = 110000\n",
    "despesas_capital = 50000\n",
    "capital_giro = 9000\n",
    "\n",
    "reinvestimento = (despesas_capital + capital_giro)"
   ]
  },
  {
   "cell_type": "code",
   "execution_count": 205,
   "id": "38742e17",
   "metadata": {},
   "outputs": [
    {
     "data": {
      "text/plain": [
       "51000"
      ]
     },
     "execution_count": 205,
     "metadata": {},
     "output_type": "execute_result"
    }
   ],
   "source": [
    "FCf = (lucro_operacional - reinvestimento)\n",
    "FCf"
   ]
  },
  {
   "cell_type": "code",
   "execution_count": 212,
   "id": "9da5a2f5",
   "metadata": {},
   "outputs": [
    {
     "data": {
      "text/plain": [
       "51000.00000000002"
      ]
     },
     "execution_count": 212,
     "metadata": {},
     "output_type": "execute_result"
    }
   ],
   "source": [
    "# Período Explícito 5 anos\n",
    "\n",
    "vp_fcf = npf.pv(wacc, 1, pmt=-FCf, when='begin')\n",
    "vp_fcf"
   ]
  },
  {
   "cell_type": "code",
   "execution_count": 213,
   "id": "ae3fa8dd",
   "metadata": {},
   "outputs": [
    {
     "data": {
      "text/plain": [
       "1354137.931034484"
      ]
     },
     "execution_count": 213,
     "metadata": {},
     "output_type": "execute_result"
    }
   ],
   "source": [
    "# Perpetuidade\n",
    "\n",
    "i_crescimento = 0.1\n",
    "\n",
    "perpetuidade = (FCf*(1+i_crescimento)/(wacc-i_crescimento))\n",
    "perpetuidade"
   ]
  },
  {
   "cell_type": "code",
   "execution_count": 211,
   "id": "7c75b02c",
   "metadata": {},
   "outputs": [
    {
     "data": {
      "text/plain": [
       "1656097.5939935856"
      ]
     },
     "execution_count": 211,
     "metadata": {},
     "output_type": "execute_result"
    }
   ],
   "source": [
    "valuation = (vp_fcf + perpetuidade)\n",
    "valuation"
   ]
  },
  {
   "cell_type": "markdown",
   "id": "6d77ede6",
   "metadata": {},
   "source": [
    "## L = LD + LA\n",
    "\n",
    "onde: \n",
    "* LD =  Lucro Distribuído\n",
    "* LA =  Lucro Acumulado"
   ]
  },
  {
   "cell_type": "code",
   "execution_count": null,
   "id": "f73b2d56",
   "metadata": {},
   "outputs": [],
   "source": []
  }
 ],
 "metadata": {
  "kernelspec": {
   "display_name": "Python 3",
   "language": "python",
   "name": "python3"
  },
  "language_info": {
   "codemirror_mode": {
    "name": "ipython",
    "version": 3
   },
   "file_extension": ".py",
   "mimetype": "text/x-python",
   "name": "python",
   "nbconvert_exporter": "python",
   "pygments_lexer": "ipython3",
   "version": "3.8.8"
  }
 },
 "nbformat": 4,
 "nbformat_minor": 5
}
